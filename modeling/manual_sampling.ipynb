{
 "cells": [
  {
   "cell_type": "code",
   "execution_count": 1,
   "id": "c00a0b75",
   "metadata": {},
   "outputs": [],
   "source": [
    "import pandas as pd\n",
    "import numpy as np\n",
    "import sklearn as sk\n",
    "import seaborn as sns\n",
    "import matplotlib.pyplot as plt\n",
    "from sklearn.feature_selection import SelectKBest, f_regression\n",
    "from sklearn.model_selection import train_test_split\n",
    "from sklearn.linear_model import LinearRegression, RidgeCV, LassoCV, ElasticNetCV, LassoLarsCV\n",
    "import pickle\n",
    "\n",
    "import warnings\n",
    "warnings.filterwarnings('ignore')"
   ]
  },
  {
   "cell_type": "code",
   "execution_count": 3,
   "id": "6fb9e664",
   "metadata": {},
   "outputs": [],
   "source": [
    "sns.set(rc={'figure.figsize':(14, 7)})"
   ]
  },
  {
   "cell_type": "code",
   "execution_count": 4,
   "id": "28e42ac3",
   "metadata": {},
   "outputs": [],
   "source": [
    "with open('../scraping/stats_salaries_cap.pickle', 'rb') as handle:\n",
    "    data = pickle.load(handle)"
   ]
  },
  {
   "cell_type": "code",
   "execution_count": 5,
   "id": "91422bff",
   "metadata": {},
   "outputs": [],
   "source": [
    "from sklearn.metrics import mean_squared_error, r2_score, explained_variance_score, mean_squared_log_error\n",
    "def evaluate(y_pred, y_test):\n",
    "    \"\"\" Prints out the evaluation metrics of the experiment\n",
    "        parameters:\n",
    "            y_pred\n",
    "                DataFrame or array-like, the predictions\n",
    "            y_test\n",
    "                DataFrame or array-like, the actual y-values\n",
    "                \n",
    "            these two parameters must have the same dimensions\n",
    "    \"\"\"\n",
    "    print(\"r^2: \", r2_score(y_test, y_pred))\n",
    "    print(\"mse: \", mean_squared_error(y_test, y_pred))\n",
    "    print(\"variance_score: \", explained_variance_score(y_test, y_pred))"
   ]
  },
  {
   "cell_type": "code",
   "execution_count": 7,
   "id": "e3b08bea",
   "metadata": {},
   "outputs": [
    {
     "data": {
      "text/plain": [
       "<AxesSubplot:xlabel='salary_category', ylabel='count'>"
      ]
     },
     "execution_count": 7,
     "metadata": {},
     "output_type": "execute_result"
    },
    {
     "data": {
      "image/png": "[encoded data removed]",
      "text/plain": [
       "<Figure size 1008x504 with 1 Axes>"
      ]
     },
     "metadata": {},
     "output_type": "display_data"
    }
   ],
   "source": [
    "sns.countplot(x='salary_category', data=data)"
   ]
  },
  {
   "cell_type": "markdown",
   "id": "b68f5465",
   "metadata": {},
   "source": [
    "# Manual sampling for balanced salary categories"
   ]
  },
  {
   "cell_type": "code",
   "execution_count": 19,
   "id": "882b0f5c",
   "metadata": {},
   "outputs": [],
   "source": [
    "import random"
   ]
  },
  {
   "cell_type": "code",
   "execution_count": 13,
   "id": "ae72b090",
   "metadata": {},
   "outputs": [
    {
     "data": {
      "text/plain": [
       "(149, 134)"
      ]
     },
     "execution_count": 13,
     "metadata": {},
     "output_type": "execute_result"
    }
   ],
   "source": [
    "data.loc[data['salary_category'].apply(lambda x: 'BAE' in x)].shape"
   ]
  },
  {
   "cell_type": "code",
   "execution_count": 14,
   "id": "d6aa9c90",
   "metadata": {},
   "outputs": [
    {
     "data": {
      "text/plain": [
       "(450, 134)"
      ]
     },
     "execution_count": 14,
     "metadata": {},
     "output_type": "execute_result"
    }
   ],
   "source": [
    "data.loc[data['salary_category'].apply(lambda x: 'MLE' in x)].shape"
   ]
  },
  {
   "cell_type": "code",
   "execution_count": 16,
   "id": "10625902",
   "metadata": {},
   "outputs": [
    {
     "data": {
      "text/plain": [
       "(560, 134)"
      ]
     },
     "execution_count": 16,
     "metadata": {},
     "output_type": "execute_result"
    }
   ],
   "source": [
    "data.loc[data['salary_category'].apply(lambda x: 'MIN' in x)].shape"
   ]
  },
  {
   "cell_type": "code",
   "execution_count": 17,
   "id": "c741e191",
   "metadata": {},
   "outputs": [
    {
     "data": {
      "text/plain": [
       "(119, 134)"
      ]
     },
     "execution_count": 17,
     "metadata": {},
     "output_type": "execute_result"
    }
   ],
   "source": [
    "data.loc[data['salary_category'].apply(lambda x: 'MAX' in x)].shape"
   ]
  },
  {
   "cell_type": "markdown",
   "id": "aa4eaadc",
   "metadata": {},
   "source": [
    "## Train, validation and Test"
   ]
  },
  {
   "cell_type": "code",
   "execution_count": 86,
   "id": "eacaa6fd",
   "metadata": {},
   "outputs": [],
   "source": [
    "seed = 45"
   ]
  },
  {
   "cell_type": "code",
   "execution_count": 87,
   "id": "aa4233ed",
   "metadata": {},
   "outputs": [],
   "source": [
    "random.seed(seed)"
   ]
  },
  {
   "cell_type": "code",
   "execution_count": 20,
   "id": "d6b13f6b",
   "metadata": {},
   "outputs": [],
   "source": [
    "mle_indices = data.loc[data['salary_category'].apply(lambda x: 'MLE' in x)].index\n",
    "max_indices = data.loc[data['salary_category'].apply(lambda x: 'MAX' in x)].index\n",
    "min_indices = data.loc[data['salary_category'].apply(lambda x: 'MIN' in x)].index\n",
    "bae_indices = data.loc[data['salary_category'].apply(lambda x: 'BAE' in x)].index"
   ]
  },
  {
   "cell_type": "code",
   "execution_count": 88,
   "id": "1a3bca45",
   "metadata": {},
   "outputs": [
    {
     "data": {
      "text/plain": [
       "450"
      ]
     },
     "execution_count": 88,
     "metadata": {},
     "output_type": "execute_result"
    }
   ],
   "source": [
    "test_mle = random.sample(list(mle_indices), int(len(mle_indices)*0.2)) \n",
    "train_mle = [i for i in mle_indices if i not in test_mle]\n",
    "val_mle = random.sample(list(train_mle), int(len(train_mle)*0.2))\n",
    "train_mle = [i for i in train_mle if i not in val_mle]\n",
    "\n",
    "len(test_mle) + len(train_mle) + len(val_mle)"
   ]
  },
  {
   "cell_type": "code",
   "execution_count": 89,
   "id": "4af96c97",
   "metadata": {},
   "outputs": [
    {
     "data": {
      "text/plain": [
       "119"
      ]
     },
     "execution_count": 89,
     "metadata": {},
     "output_type": "execute_result"
    }
   ],
   "source": [
    "test_max = random.sample(list(max_indices), int(len(max_indices)*0.1)) \n",
    "train_max = [i for i in max_indices if i not in test_max]\n",
    "val_max = random.sample(list(train_max), int(len(train_max)*0.1))\n",
    "train_max = [i for i in train_max if i not in val_max]\n",
    "\n",
    "len(test_max) + len(train_max) + len(val_max)"
   ]
  },
  {
   "cell_type": "code",
   "execution_count": 90,
   "id": "60ccc20b",
   "metadata": {},
   "outputs": [
    {
     "data": {
      "text/plain": [
       "149"
      ]
     },
     "execution_count": 90,
     "metadata": {},
     "output_type": "execute_result"
    }
   ],
   "source": [
    "test_bae = random.sample(list(bae_indices), int(len(bae_indices)*0.15)) \n",
    "train_bae = [i for i in bae_indices if i not in test_bae]\n",
    "val_bae = random.sample(list(train_bae), int(len(train_bae)*0.15))\n",
    "train_bae = [i for i in train_bae if i not in val_bae]\n",
    "\n",
    "len(test_bae) + len(train_bae) + len(val_bae)"
   ]
  },
  {
   "cell_type": "code",
   "execution_count": 91,
   "id": "6e7d838c",
   "metadata": {},
   "outputs": [
    {
     "data": {
      "text/plain": [
       "560"
      ]
     },
     "execution_count": 91,
     "metadata": {},
     "output_type": "execute_result"
    }
   ],
   "source": [
    "test_min = random.sample(list(min_indices), int(len(min_indices)*0.2)) \n",
    "train_min = [i for i in min_indices if i not in test_min]\n",
    "val_min = random.sample(list(train_min), int(len(train_min)*0.2))\n",
    "train_min = [i for i in train_min if i not in val_min]\n",
    "\n",
    "len(test_min) + len(train_min) + len(val_min)"
   ]
  },
  {
   "cell_type": "code",
   "execution_count": 92,
   "id": "2ad77df7",
   "metadata": {},
   "outputs": [],
   "source": [
    "train_indices = sum([train_min, train_bae, train_max, train_mle], [])\n",
    "val_indices = sum([val_min, val_bae, val_max, val_mle], [])\n",
    "test_indices = sum([test_min, test_bae, test_max, test_mle], [])"
   ]
  },
  {
   "cell_type": "code",
   "execution_count": 93,
   "id": "dfe6cb1f",
   "metadata": {},
   "outputs": [],
   "source": [
    "X = data.drop(columns=['Player', 'previous season', 'Next season', 'Salary',\n",
    "       'salary_cap', 'cap_usage', 'salary_category', 'season_x', 'season_y'])\n",
    "X = pd.concat([X.drop('Pos', axis=1), pd.get_dummies(X.Pos)], axis=1)\n",
    "\n",
    "y = data['cap_usage']"
   ]
  },
  {
   "cell_type": "code",
   "execution_count": 94,
   "id": "1fffa719",
   "metadata": {},
   "outputs": [],
   "source": [
    "X_train, X_val, X_test = X.loc[train_indices], X.loc[val_indices], X.loc[test_indices]\n",
    "y_train, y_val, y_test = y.loc[train_indices], y.loc[val_indices], y.loc[test_indices]"
   ]
  },
  {
   "cell_type": "markdown",
   "id": "fe5b374c",
   "metadata": {},
   "source": [
    "# Feature Selection"
   ]
  },
  {
   "cell_type": "code",
   "execution_count": 95,
   "id": "6f909e6f",
   "metadata": {},
   "outputs": [],
   "source": [
    "select = SelectKBest(f_regression, k=90)"
   ]
  },
  {
   "cell_type": "code",
   "execution_count": 96,
   "id": "4b09760a",
   "metadata": {},
   "outputs": [],
   "source": [
    "best_features = select.fit_transform(X, y)\n",
    "feature_scores = pd.concat([pd.Series(X.columns), pd.Series(select.scores_)], axis=1)\n",
    "feature_scores.columns = [\"features\", \"score\"]\n",
    "features = list(feature_scores.sort_values(by=[\"score\"], ascending=False).head(25)['features'])"
   ]
  },
  {
   "cell_type": "code",
   "execution_count": 97,
   "id": "1a322758",
   "metadata": {},
   "outputs": [],
   "source": [
    "X_train = X_train[features]\n",
    "X_test = X_test[features]\n",
    "X_val = X_val[features]"
   ]
  },
  {
   "cell_type": "code",
   "execution_count": 98,
   "id": "d819ce32",
   "metadata": {},
   "outputs": [
    {
     "data": {
      "text/plain": [
       "LinearRegression()"
      ]
     },
     "execution_count": 98,
     "metadata": {},
     "output_type": "execute_result"
    }
   ],
   "source": [
    "lr = LinearRegression()\n",
    "lr.fit(X_train, y_train)"
   ]
  },
  {
   "cell_type": "code",
   "execution_count": 99,
   "id": "186982b1",
   "metadata": {},
   "outputs": [
    {
     "name": "stdout",
     "output_type": "stream",
     "text": [
      "r^2:  0.6385417089937095\n",
      "mse:  0.0013223693889000377\n",
      "variance_score:  0.641362806255303\n"
     ]
    }
   ],
   "source": [
    "evaluate(lr.predict(X_val), y_val)"
   ]
  },
  {
   "cell_type": "code",
   "execution_count": 100,
   "id": "78a67f00",
   "metadata": {},
   "outputs": [
    {
     "name": "stdout",
     "output_type": "stream",
     "text": [
      "r^2:  0.5672925369633108\n",
      "mse:  0.001261243642006599\n",
      "variance_score:  0.5729557359096795\n"
     ]
    }
   ],
   "source": [
    "evaluate(lr.predict(X_test), y_test)"
   ]
  },
  {
   "cell_type": "code",
   "execution_count": 101,
   "id": "5611fd77",
   "metadata": {},
   "outputs": [
    {
     "data": {
      "text/plain": [
       "RidgeCV(alphas=array([0.001, 0.01 , 0.1  , 1.   ]), cv=5)"
      ]
     },
     "execution_count": 101,
     "metadata": {},
     "output_type": "execute_result"
    }
   ],
   "source": [
    "ridge_cv = RidgeCV(alphas=[1e-3, 1e-2, 1e-1, 1], cv=5)\n",
    "ridge_cv.fit(X_train, y_train)"
   ]
  },
  {
   "cell_type": "code",
   "execution_count": 102,
   "id": "ee7f136b",
   "metadata": {},
   "outputs": [
    {
     "name": "stdout",
     "output_type": "stream",
     "text": [
      "r^2:  0.6379446491034557\n",
      "mse:  0.0013245536899434958\n",
      "variance_score:  0.6407276738808106\n"
     ]
    }
   ],
   "source": [
    "evaluate(ridge_cv.predict(X_val), y_val)"
   ]
  },
  {
   "cell_type": "code",
   "execution_count": 103,
   "id": "bc67d359",
   "metadata": {},
   "outputs": [
    {
     "name": "stdout",
     "output_type": "stream",
     "text": [
      "r^2:  0.5718249011349537\n",
      "mse:  0.0012480328333585903\n",
      "variance_score:  0.5778603683402892\n"
     ]
    }
   ],
   "source": [
    "evaluate(ridge_cv.predict(X_test), y_test)"
   ]
  },
  {
   "cell_type": "markdown",
   "id": "3fca22bf",
   "metadata": {},
   "source": [
    "# Light GBM"
   ]
  },
  {
   "cell_type": "code",
   "execution_count": 71,
   "id": "c6b3f3f3",
   "metadata": {},
   "outputs": [],
   "source": [
    "from sklearn.model_selection import RandomizedSearchCV, GridSearchCV"
   ]
  },
  {
   "cell_type": "code",
   "execution_count": 64,
   "id": "47038833",
   "metadata": {},
   "outputs": [],
   "source": [
    "import lightgbm as lgb"
   ]
  },
  {
   "cell_type": "code",
   "execution_count": 104,
   "id": "db922263",
   "metadata": {},
   "outputs": [],
   "source": [
    "lgb_toy = lgb.LGBMRegressor(boosting_type = 'dart', \n",
    "                            n_estimators=2500)"
   ]
  },
  {
   "cell_type": "code",
   "execution_count": 105,
   "id": "153f7f2d",
   "metadata": {},
   "outputs": [
    {
     "data": {
      "text/plain": [
       "LGBMRegressor(boosting_type='dart', n_estimators=2500)"
      ]
     },
     "execution_count": 105,
     "metadata": {},
     "output_type": "execute_result"
    }
   ],
   "source": [
    "lgb_toy.fit(X_train, y_train)"
   ]
  },
  {
   "cell_type": "code",
   "execution_count": 106,
   "id": "d11ef262",
   "metadata": {},
   "outputs": [
    {
     "data": {
      "text/plain": [
       "0.6023364585004931"
      ]
     },
     "execution_count": 106,
     "metadata": {},
     "output_type": "execute_result"
    }
   ],
   "source": [
    "r2_score(y_val, lgb_toy.predict(X_val))"
   ]
  },
  {
   "cell_type": "code",
   "execution_count": 107,
   "id": "7ac6cb67",
   "metadata": {},
   "outputs": [
    {
     "data": {
      "text/plain": [
       "0.6259032533793123"
      ]
     },
     "execution_count": 107,
     "metadata": {},
     "output_type": "execute_result"
    }
   ],
   "source": [
    "r2_score(y_test, lgb_toy.predict(X_test))"
   ]
  },
  {
   "cell_type": "code",
   "execution_count": 146,
   "id": "9310e8d5",
   "metadata": {},
   "outputs": [],
   "source": [
    "boosting_type = ['gbdt', 'dart', 'goss', 'rf']\n",
    "\n",
    "objective = ['regression', 'huber', 'fair', 'poisson', 'quantile']\n",
    "\n",
    "num_leaves = range(1, 10, 1)\n",
    "\n",
    "min_child_weight = range(1, 50, 10)\n",
    "\n",
    "learning_rate = [1e-4, 5e-3, 1e-3, 5e-2, 1e-2, 5e-2, 1e-1, 0.2, 0.3]\n",
    "\n",
    "min_split_gain = [1e-5, 1e-4, 1e-3, 1e-2, 1e-1, 1, 1e1, 1e2, 1e3]\n",
    "\n",
    "lightgbm_grid = {'num_leaves': num_leaves,\n",
    "                 'min_child_weight': min_child_weight,\n",
    "                 'objective': objective}"
   ]
  },
  {
   "cell_type": "code",
   "execution_count": 147,
   "id": "7f59fc64",
   "metadata": {},
   "outputs": [
    {
     "name": "stdout",
     "output_type": "stream",
     "text": [
      "Fitting 5 folds for each of 225 candidates, totalling 1125 fits\n"
     ]
    },
    {
     "data": {
      "text/plain": [
       "RandomizedSearchCV(cv=5,\n",
       "                   estimator=LGBMRegressor(boosting_type='dart',\n",
       "                                           n_estimators=1000),\n",
       "                   n_iter=400, n_jobs=-1,\n",
       "                   param_distributions={'min_child_weight': range(1, 50, 10),\n",
       "                                        'num_leaves': range(1, 10),\n",
       "                                        'objective': ['regression', 'huber',\n",
       "                                                      'fair', 'poisson',\n",
       "                                                      'quantile']},\n",
       "                   random_state=45, verbose=3)"
      ]
     },
     "execution_count": 147,
     "metadata": {},
     "output_type": "execute_result"
    }
   ],
   "source": [
    "lightgbm = lgb.LGBMRegressor(boosting_type = 'dart', n_estimators = 1000)\n",
    "\n",
    "lightgbm_random = RandomizedSearchCV(estimator = lightgbm,\n",
    "                                     param_distributions = lightgbm_grid, n_iter = 400, cv = 5,\n",
    "                                     verbose=3, n_jobs = -1, random_state = seed)\n",
    "# Fit the random search model\n",
    "lightgbm_random.fit(X_train, y_train)"
   ]
  },
  {
   "cell_type": "code",
   "execution_count": 148,
   "id": "b44c2154",
   "metadata": {},
   "outputs": [
    {
     "data": {
      "text/plain": [
       "0.6672184701022486"
      ]
     },
     "execution_count": 148,
     "metadata": {},
     "output_type": "execute_result"
    }
   ],
   "source": [
    "r2_score(y_val, lightgbm_random.predict(X_val))"
   ]
  },
  {
   "cell_type": "code",
   "execution_count": 149,
   "id": "62ced409",
   "metadata": {},
   "outputs": [
    {
     "data": {
      "text/plain": [
       "0.6263005672236419"
      ]
     },
     "execution_count": 149,
     "metadata": {},
     "output_type": "execute_result"
    }
   ],
   "source": [
    "r2_score(y_test, lightgbm_random.predict(X_test))"
   ]
  },
  {
   "cell_type": "code",
   "execution_count": 150,
   "id": "242dae26",
   "metadata": {},
   "outputs": [
    {
     "data": {
      "text/plain": [
       "LGBMRegressor(boosting_type='dart', min_child_weight=41, n_estimators=1000,\n",
       "              num_leaves=5, objective='fair')"
      ]
     },
     "execution_count": 150,
     "metadata": {},
     "output_type": "execute_result"
    }
   ],
   "source": [
    "lightgbm_random.best_estimator_"
   ]
  },
  {
   "cell_type": "code",
   "execution_count": 159,
   "id": "cda13b93",
   "metadata": {},
   "outputs": [],
   "source": [
    "with open('../scraping/salary_categories_dict.pickle', 'rb') as handle:\n",
    "    salary_categories_dict = pickle.load(handle)"
   ]
  },
  {
   "cell_type": "code",
   "execution_count": 162,
   "id": "8885ce3a",
   "metadata": {},
   "outputs": [],
   "source": [
    "def assign_category(row, index='pred_salary'):\n",
    "    season_dict = salary_categories_dict[row['Next season']]\n",
    "    sorted_season_dict = dict(sorted(season_dict.items(), key=lambda item: abs(item[0] - row[index])))\n",
    "    return list(sorted_season_dict.values())[0]"
   ]
  },
  {
   "cell_type": "code",
   "execution_count": 171,
   "id": "b551720b",
   "metadata": {},
   "outputs": [],
   "source": [
    "tmp = data.loc[y_test.index][['Player', 'previous season', 'cap_usage', 'salary_cap',  'Salary', 'salary_category', 'Next season']]\n",
    "tmp['pred_cap_usage'] = lightgbm_random.predict(X_test)\n",
    "tmp['pred_salary'] = tmp['pred_cap_usage'] * tmp['salary_cap']\n",
    "tmp['pred_salary'] = tmp['pred_salary'].apply(int)\n",
    "tmp = tmp[['Player', 'previous season', 'salary_cap', 'cap_usage', 'pred_cap_usage', 'Salary', 'salary_category', 'pred_salary', 'Next season']]\n",
    "tmp['Salary'] = tmp['Salary'].apply(int)\n",
    "tmp['salary_category_pred'] = tmp.apply(assign_category, axis=1)\n",
    "tmp.drop(['Next season'], inplace=True, axis=1)"
   ]
  },
  {
   "cell_type": "code",
   "execution_count": 175,
   "id": "ab6144ff",
   "metadata": {
    "scrolled": true
   },
   "outputs": [
    {
     "data": {
      "text/html": [
       "<div>\n",
       "<style scoped>\n",
       "    .dataframe tbody tr th:only-of-type {\n",
       "        vertical-align: middle;\n",
       "    }\n",
       "\n",
       "    .dataframe tbody tr th {\n",
       "        vertical-align: top;\n",
       "    }\n",
       "\n",
       "    .dataframe thead th {\n",
       "        text-align: right;\n",
       "    }\n",
       "</style>\n",
       "<table border=\"1\" class=\"dataframe\">\n",
       "  <thead>\n",
       "    <tr style=\"text-align: right;\">\n",
       "      <th></th>\n",
       "      <th>Player</th>\n",
       "      <th>previous season</th>\n",
       "      <th>salary_cap</th>\n",
       "      <th>cap_usage</th>\n",
       "      <th>pred_cap_usage</th>\n",
       "      <th>Salary</th>\n",
       "      <th>salary_category</th>\n",
       "      <th>pred_salary</th>\n",
       "      <th>salary_category_pred</th>\n",
       "    </tr>\n",
       "  </thead>\n",
       "  <tbody>\n",
       "    <tr>\n",
       "      <th>632</th>\n",
       "      <td>Jimmer Fredette</td>\n",
       "      <td>2013-14</td>\n",
       "      <td>63065000</td>\n",
       "      <td>0.014513</td>\n",
       "      <td>0.013283</td>\n",
       "      <td>915243</td>\n",
       "      <td>2 MIN</td>\n",
       "      <td>837715</td>\n",
       "      <td>1 MIN</td>\n",
       "    </tr>\n",
       "    <tr>\n",
       "      <th>661</th>\n",
       "      <td>Rasual Butler</td>\n",
       "      <td>2013-14</td>\n",
       "      <td>63065000</td>\n",
       "      <td>0.014513</td>\n",
       "      <td>0.015155</td>\n",
       "      <td>915243</td>\n",
       "      <td>2 MIN</td>\n",
       "      <td>955731</td>\n",
       "      <td>3 MIN</td>\n",
       "    </tr>\n",
       "    <tr>\n",
       "      <th>930</th>\n",
       "      <td>Raymond Felton</td>\n",
       "      <td>2016-17</td>\n",
       "      <td>99093000</td>\n",
       "      <td>0.014848</td>\n",
       "      <td>0.054685</td>\n",
       "      <td>1471382</td>\n",
       "      <td>2 MIN</td>\n",
       "      <td>5418932</td>\n",
       "      <td>Tax MLE</td>\n",
       "    </tr>\n",
       "    <tr>\n",
       "      <th>966</th>\n",
       "      <td>Dwyane Wade</td>\n",
       "      <td>2017-18</td>\n",
       "      <td>101869000</td>\n",
       "      <td>0.014848</td>\n",
       "      <td>0.043395</td>\n",
       "      <td>1512601</td>\n",
       "      <td>2 MIN</td>\n",
       "      <td>4420564</td>\n",
       "      <td>Room MLE</td>\n",
       "    </tr>\n",
       "    <tr>\n",
       "      <th>754</th>\n",
       "      <td>Michael Beasley</td>\n",
       "      <td>2014-15</td>\n",
       "      <td>70000000</td>\n",
       "      <td>0.004379</td>\n",
       "      <td>0.030198</td>\n",
       "      <td>306527</td>\n",
       "      <td>0 MIN</td>\n",
       "      <td>2113840</td>\n",
       "      <td>BAE</td>\n",
       "    </tr>\n",
       "    <tr>\n",
       "      <th>268</th>\n",
       "      <td>Jason Collins</td>\n",
       "      <td>2008-09</td>\n",
       "      <td>57700000</td>\n",
       "      <td>0.014307</td>\n",
       "      <td>0.022314</td>\n",
       "      <td>825497</td>\n",
       "      <td>2 MIN</td>\n",
       "      <td>1287527</td>\n",
       "      <td>10 MIN</td>\n",
       "    </tr>\n",
       "    <tr>\n",
       "      <th>1224</th>\n",
       "      <td>Dewayne Dedmon</td>\n",
       "      <td>2020-21</td>\n",
       "      <td>125000000</td>\n",
       "      <td>0.013353</td>\n",
       "      <td>0.021255</td>\n",
       "      <td>1669178</td>\n",
       "      <td>2 MIN</td>\n",
       "      <td>2656928</td>\n",
       "      <td>9 MIN</td>\n",
       "    </tr>\n",
       "    <tr>\n",
       "      <th>722</th>\n",
       "      <td>Jason Richardson</td>\n",
       "      <td>2014-15</td>\n",
       "      <td>70000000</td>\n",
       "      <td>0.013533</td>\n",
       "      <td>0.020153</td>\n",
       "      <td>947276</td>\n",
       "      <td>2 MIN</td>\n",
       "      <td>1410729</td>\n",
       "      <td>9 MIN</td>\n",
       "    </tr>\n",
       "    <tr>\n",
       "      <th>1290</th>\n",
       "      <td>Tony Snell</td>\n",
       "      <td>2020-21</td>\n",
       "      <td>125000000</td>\n",
       "      <td>0.013353</td>\n",
       "      <td>0.030901</td>\n",
       "      <td>1669178</td>\n",
       "      <td>2 MIN</td>\n",
       "      <td>3862607</td>\n",
       "      <td>BAE</td>\n",
       "    </tr>\n",
       "    <tr>\n",
       "      <th>400</th>\n",
       "      <td>Carldell Johnson</td>\n",
       "      <td>2011-12</td>\n",
       "      <td>58044000</td>\n",
       "      <td>0.008159</td>\n",
       "      <td>0.012989</td>\n",
       "      <td>473604</td>\n",
       "      <td>0 MIN</td>\n",
       "      <td>753939</td>\n",
       "      <td>1 MIN</td>\n",
       "    </tr>\n",
       "    <tr>\n",
       "      <th>527</th>\n",
       "      <td>Donald Sloan</td>\n",
       "      <td>2012-13</td>\n",
       "      <td>58679000</td>\n",
       "      <td>0.015070</td>\n",
       "      <td>0.023234</td>\n",
       "      <td>884293</td>\n",
       "      <td>2 MIN</td>\n",
       "      <td>1363375</td>\n",
       "      <td>10 MIN</td>\n",
       "    </tr>\n",
       "    <tr>\n",
       "      <th>159</th>\n",
       "      <td>Juwan Howard</td>\n",
       "      <td>2006-07</td>\n",
       "      <td>55630000</td>\n",
       "      <td>0.013689</td>\n",
       "      <td>0.077473</td>\n",
       "      <td>761544</td>\n",
       "      <td>2 MIN</td>\n",
       "      <td>4309795</td>\n",
       "      <td>Room MLE</td>\n",
       "    </tr>\n",
       "    <tr>\n",
       "      <th>171</th>\n",
       "      <td>Mickael Pietrus</td>\n",
       "      <td>2006-07</td>\n",
       "      <td>55630000</td>\n",
       "      <td>0.062390</td>\n",
       "      <td>0.056067</td>\n",
       "      <td>3470771</td>\n",
       "      <td>BAE</td>\n",
       "      <td>3119005</td>\n",
       "      <td>BAE</td>\n",
       "    </tr>\n",
       "    <tr>\n",
       "      <th>1263</th>\n",
       "      <td>Mike Muscala</td>\n",
       "      <td>2020-21</td>\n",
       "      <td>125000000</td>\n",
       "      <td>0.026923</td>\n",
       "      <td>0.032688</td>\n",
       "      <td>3365385</td>\n",
       "      <td>BAE</td>\n",
       "      <td>4086007</td>\n",
       "      <td>BAE</td>\n",
       "    </tr>\n",
       "    <tr>\n",
       "      <th>167</th>\n",
       "      <td>Matt Bonner</td>\n",
       "      <td>2006-07</td>\n",
       "      <td>55630000</td>\n",
       "      <td>0.048535</td>\n",
       "      <td>0.021239</td>\n",
       "      <td>2700000</td>\n",
       "      <td>BAE</td>\n",
       "      <td>1181540</td>\n",
       "      <td>10 MIN</td>\n",
       "    </tr>\n",
       "    <tr>\n",
       "      <th>166</th>\n",
       "      <td>Matt Barnes</td>\n",
       "      <td>2006-07</td>\n",
       "      <td>55630000</td>\n",
       "      <td>0.053928</td>\n",
       "      <td>0.055527</td>\n",
       "      <td>3000000</td>\n",
       "      <td>BAE</td>\n",
       "      <td>3088955</td>\n",
       "      <td>BAE</td>\n",
       "    </tr>\n",
       "    <tr>\n",
       "      <th>45</th>\n",
       "      <td>Matt Bonner</td>\n",
       "      <td>2004-05</td>\n",
       "      <td>49500000</td>\n",
       "      <td>0.040404</td>\n",
       "      <td>0.038221</td>\n",
       "      <td>2000000</td>\n",
       "      <td>BAE</td>\n",
       "      <td>1891921</td>\n",
       "      <td>BAE</td>\n",
       "    </tr>\n",
       "    <tr>\n",
       "      <th>35</th>\n",
       "      <td>Juan Dixon</td>\n",
       "      <td>2004-05</td>\n",
       "      <td>49500000</td>\n",
       "      <td>0.050505</td>\n",
       "      <td>0.048466</td>\n",
       "      <td>2500000</td>\n",
       "      <td>BAE</td>\n",
       "      <td>2399051</td>\n",
       "      <td>BAE</td>\n",
       "    </tr>\n",
       "    <tr>\n",
       "      <th>66</th>\n",
       "      <td>Steven Hunter</td>\n",
       "      <td>2004-05</td>\n",
       "      <td>49500000</td>\n",
       "      <td>0.057471</td>\n",
       "      <td>0.036657</td>\n",
       "      <td>2844828</td>\n",
       "      <td>BAE</td>\n",
       "      <td>1814516</td>\n",
       "      <td>BAE</td>\n",
       "    </tr>\n",
       "    <tr>\n",
       "      <th>329</th>\n",
       "      <td>Raja Bell</td>\n",
       "      <td>2009-10</td>\n",
       "      <td>58044000</td>\n",
       "      <td>0.051685</td>\n",
       "      <td>0.046042</td>\n",
       "      <td>3000000</td>\n",
       "      <td>BAE</td>\n",
       "      <td>2672474</td>\n",
       "      <td>BAE</td>\n",
       "    </tr>\n",
       "    <tr>\n",
       "      <th>226</th>\n",
       "      <td>Anthony Parker</td>\n",
       "      <td>2008-09</td>\n",
       "      <td>57700000</td>\n",
       "      <td>0.045827</td>\n",
       "      <td>0.099304</td>\n",
       "      <td>2644231</td>\n",
       "      <td>BAE</td>\n",
       "      <td>5729838</td>\n",
       "      <td>Room MLE</td>\n",
       "    </tr>\n",
       "    <tr>\n",
       "      <th>258</th>\n",
       "      <td>Ryan Hollins</td>\n",
       "      <td>2008-09</td>\n",
       "      <td>57700000</td>\n",
       "      <td>0.037839</td>\n",
       "      <td>0.017472</td>\n",
       "      <td>2183333</td>\n",
       "      <td>BAE</td>\n",
       "      <td>1008132</td>\n",
       "      <td>6 MIN</td>\n",
       "    </tr>\n",
       "    <tr>\n",
       "      <th>609</th>\n",
       "      <td>Danny Granger</td>\n",
       "      <td>2013-14</td>\n",
       "      <td>63065000</td>\n",
       "      <td>0.032934</td>\n",
       "      <td>0.028740</td>\n",
       "      <td>2077000</td>\n",
       "      <td>BAE</td>\n",
       "      <td>1812507</td>\n",
       "      <td>BAE</td>\n",
       "    </tr>\n",
       "    <tr>\n",
       "      <th>1084</th>\n",
       "      <td>Reggie Bullock</td>\n",
       "      <td>2018-19</td>\n",
       "      <td>109140000</td>\n",
       "      <td>0.036650</td>\n",
       "      <td>0.049569</td>\n",
       "      <td>4000000</td>\n",
       "      <td>BAE</td>\n",
       "      <td>5409998</td>\n",
       "      <td>Tax MLE</td>\n",
       "    </tr>\n",
       "    <tr>\n",
       "      <th>349</th>\n",
       "      <td>Matt Barnes</td>\n",
       "      <td>2009-10</td>\n",
       "      <td>58044000</td>\n",
       "      <td>0.030408</td>\n",
       "      <td>0.106087</td>\n",
       "      <td>1765000</td>\n",
       "      <td>BAE</td>\n",
       "      <td>6157695</td>\n",
       "      <td>Room MLE</td>\n",
       "    </tr>\n",
       "    <tr>\n",
       "      <th>43</th>\n",
       "      <td>Malik Allen</td>\n",
       "      <td>2004-05</td>\n",
       "      <td>49500000</td>\n",
       "      <td>0.033737</td>\n",
       "      <td>0.016459</td>\n",
       "      <td>1670000</td>\n",
       "      <td>BAE</td>\n",
       "      <td>814742</td>\n",
       "      <td>5 MIN</td>\n",
       "    </tr>\n",
       "    <tr>\n",
       "      <th>362</th>\n",
       "      <td>Shannon Brown</td>\n",
       "      <td>2009-10</td>\n",
       "      <td>58044000</td>\n",
       "      <td>0.037027</td>\n",
       "      <td>0.062831</td>\n",
       "      <td>2149200</td>\n",
       "      <td>BAE</td>\n",
       "      <td>3646946</td>\n",
       "      <td>BAE</td>\n",
       "    </tr>\n",
       "    <tr>\n",
       "      <th>636</th>\n",
       "      <td>Kent Bazemore</td>\n",
       "      <td>2013-14</td>\n",
       "      <td>63065000</td>\n",
       "      <td>0.031713</td>\n",
       "      <td>0.013270</td>\n",
       "      <td>2000000</td>\n",
       "      <td>BAE</td>\n",
       "      <td>836901</td>\n",
       "      <td>1 MIN</td>\n",
       "    </tr>\n",
       "    <tr>\n",
       "      <th>337</th>\n",
       "      <td>Craig Smith</td>\n",
       "      <td>2009-10</td>\n",
       "      <td>58044000</td>\n",
       "      <td>0.039625</td>\n",
       "      <td>0.032545</td>\n",
       "      <td>2300000</td>\n",
       "      <td>BAE</td>\n",
       "      <td>1889040</td>\n",
       "      <td>BAE</td>\n",
       "    </tr>\n",
       "    <tr>\n",
       "      <th>29</th>\n",
       "      <td>Greg Buckner</td>\n",
       "      <td>2004-05</td>\n",
       "      <td>49500000</td>\n",
       "      <td>0.033737</td>\n",
       "      <td>0.044437</td>\n",
       "      <td>1670000</td>\n",
       "      <td>BAE</td>\n",
       "      <td>2199639</td>\n",
       "      <td>BAE</td>\n",
       "    </tr>\n",
       "    <tr>\n",
       "      <th>350</th>\n",
       "      <td>Marquis Daniels</td>\n",
       "      <td>2009-10</td>\n",
       "      <td>58044000</td>\n",
       "      <td>0.041141</td>\n",
       "      <td>0.021987</td>\n",
       "      <td>2388000</td>\n",
       "      <td>BAE</td>\n",
       "      <td>1276221</td>\n",
       "      <td>9 MIN</td>\n",
       "    </tr>\n",
       "    <tr>\n",
       "      <th>190</th>\n",
       "      <td>Antoine Wright</td>\n",
       "      <td>2007-08</td>\n",
       "      <td>58680000</td>\n",
       "      <td>0.030675</td>\n",
       "      <td>0.036171</td>\n",
       "      <td>1800000</td>\n",
       "      <td>BAE</td>\n",
       "      <td>2122537</td>\n",
       "      <td>BAE</td>\n",
       "    </tr>\n",
       "    <tr>\n",
       "      <th>1120</th>\n",
       "      <td>Bismack Biyombo</td>\n",
       "      <td>2019-20</td>\n",
       "      <td>115000000</td>\n",
       "      <td>0.030435</td>\n",
       "      <td>0.037828</td>\n",
       "      <td>3500000</td>\n",
       "      <td>BAE</td>\n",
       "      <td>4350188</td>\n",
       "      <td>Room MLE</td>\n",
       "    </tr>\n",
       "    <tr>\n",
       "      <th>1237</th>\n",
       "      <td>Georges Niang</td>\n",
       "      <td>2020-21</td>\n",
       "      <td>125000000</td>\n",
       "      <td>0.026400</td>\n",
       "      <td>0.038916</td>\n",
       "      <td>3300000</td>\n",
       "      <td>BAE</td>\n",
       "      <td>4864540</td>\n",
       "      <td>Room MLE</td>\n",
       "    </tr>\n",
       "    <tr>\n",
       "      <th>778</th>\n",
       "      <td>Tyson Chandler</td>\n",
       "      <td>2014-15</td>\n",
       "      <td>70000000</td>\n",
       "      <td>0.185714</td>\n",
       "      <td>0.106250</td>\n",
       "      <td>13000000</td>\n",
       "      <td>0-6 MAX</td>\n",
       "      <td>7437531</td>\n",
       "      <td>MLE</td>\n",
       "    </tr>\n",
       "    <tr>\n",
       "      <th>1150</th>\n",
       "      <td>Jerami Grant</td>\n",
       "      <td>2019-20</td>\n",
       "      <td>115000000</td>\n",
       "      <td>0.165652</td>\n",
       "      <td>0.105626</td>\n",
       "      <td>19050000</td>\n",
       "      <td>0-6 MAX</td>\n",
       "      <td>12146983</td>\n",
       "      <td>MLE</td>\n",
       "    </tr>\n",
       "    <tr>\n",
       "      <th>847</th>\n",
       "      <td>Manu Ginobili</td>\n",
       "      <td>2015-16</td>\n",
       "      <td>94143000</td>\n",
       "      <td>0.148710</td>\n",
       "      <td>0.071912</td>\n",
       "      <td>14000000</td>\n",
       "      <td>0-6 MAX</td>\n",
       "      <td>6770023</td>\n",
       "      <td>MLE</td>\n",
       "    </tr>\n",
       "    <tr>\n",
       "      <th>455</th>\n",
       "      <td>Kris Humphries</td>\n",
       "      <td>2011-12</td>\n",
       "      <td>58044000</td>\n",
       "      <td>0.206740</td>\n",
       "      <td>0.151926</td>\n",
       "      <td>12000000</td>\n",
       "      <td>0-6 MAX</td>\n",
       "      <td>8818409</td>\n",
       "      <td>MLE</td>\n",
       "    </tr>\n",
       "    <tr>\n",
       "      <th>1072</th>\n",
       "      <td>Kyrie Irving</td>\n",
       "      <td>2018-19</td>\n",
       "      <td>109140000</td>\n",
       "      <td>0.290837</td>\n",
       "      <td>0.311464</td>\n",
       "      <td>31742000</td>\n",
       "      <td>7-9 MAX</td>\n",
       "      <td>33993161</td>\n",
       "      <td>7-9 MAX</td>\n",
       "    </tr>\n",
       "    <tr>\n",
       "      <th>741</th>\n",
       "      <td>LaMarcus Aldridge</td>\n",
       "      <td>2014-15</td>\n",
       "      <td>70000000</td>\n",
       "      <td>0.281271</td>\n",
       "      <td>0.295194</td>\n",
       "      <td>19689000</td>\n",
       "      <td>7-9 MAX</td>\n",
       "      <td>20663564</td>\n",
       "      <td>7-9 MAX</td>\n",
       "    </tr>\n",
       "    <tr>\n",
       "      <th>1287</th>\n",
       "      <td>Tim Hardaway Jr.</td>\n",
       "      <td>2020-21</td>\n",
       "      <td>125000000</td>\n",
       "      <td>0.170471</td>\n",
       "      <td>0.139612</td>\n",
       "      <td>21308816</td>\n",
       "      <td>0-6 MAX</td>\n",
       "      <td>17451519</td>\n",
       "      <td>MLE</td>\n",
       "    </tr>\n",
       "    <tr>\n",
       "      <th>817</th>\n",
       "      <td>Ian Mahinmi</td>\n",
       "      <td>2015-16</td>\n",
       "      <td>94143000</td>\n",
       "      <td>0.169361</td>\n",
       "      <td>0.106172</td>\n",
       "      <td>15944154</td>\n",
       "      <td>0-6 MAX</td>\n",
       "      <td>9995346</td>\n",
       "      <td>MLE</td>\n",
       "    </tr>\n",
       "    <tr>\n",
       "      <th>830</th>\n",
       "      <td>Joakim Noah</td>\n",
       "      <td>2015-16</td>\n",
       "      <td>94143000</td>\n",
       "      <td>0.180576</td>\n",
       "      <td>0.036852</td>\n",
       "      <td>17000000</td>\n",
       "      <td>0-6 MAX</td>\n",
       "      <td>3469363</td>\n",
       "      <td>Tax MLE</td>\n",
       "    </tr>\n",
       "    <tr>\n",
       "      <th>955</th>\n",
       "      <td>Chris Paul</td>\n",
       "      <td>2017-18</td>\n",
       "      <td>101869000</td>\n",
       "      <td>0.350000</td>\n",
       "      <td>0.252251</td>\n",
       "      <td>35654150</td>\n",
       "      <td>10+ MAX</td>\n",
       "      <td>25696561</td>\n",
       "      <td>0-6 MAX</td>\n",
       "    </tr>\n",
       "    <tr>\n",
       "      <th>39</th>\n",
       "      <td>Larry Hughes</td>\n",
       "      <td>2004-05</td>\n",
       "      <td>49500000</td>\n",
       "      <td>0.208988</td>\n",
       "      <td>0.285625</td>\n",
       "      <td>10344900</td>\n",
       "      <td>0-6 MAX</td>\n",
       "      <td>14138414</td>\n",
       "      <td>7-9 MAX</td>\n",
       "    </tr>\n",
       "    <tr>\n",
       "      <th>478</th>\n",
       "      <td>Ray Allen</td>\n",
       "      <td>2011-12</td>\n",
       "      <td>58044000</td>\n",
       "      <td>0.055631</td>\n",
       "      <td>0.151576</td>\n",
       "      <td>3229050</td>\n",
       "      <td>Tax MLE</td>\n",
       "      <td>8798096</td>\n",
       "      <td>MLE</td>\n",
       "    </tr>\n",
       "    <tr>\n",
       "      <th>669</th>\n",
       "      <td>Shaun Livingston</td>\n",
       "      <td>2013-14</td>\n",
       "      <td>63065000</td>\n",
       "      <td>0.084120</td>\n",
       "      <td>0.090664</td>\n",
       "      <td>5305000</td>\n",
       "      <td>MLE</td>\n",
       "      <td>5717714</td>\n",
       "      <td>MLE</td>\n",
       "    </tr>\n",
       "    <tr>\n",
       "      <th>750</th>\n",
       "      <td>Manu Ginobili</td>\n",
       "      <td>2014-15</td>\n",
       "      <td>70000000</td>\n",
       "      <td>0.040200</td>\n",
       "      <td>0.055713</td>\n",
       "      <td>2814000</td>\n",
       "      <td>Room MLE</td>\n",
       "      <td>3899884</td>\n",
       "      <td>Tax MLE</td>\n",
       "    </tr>\n",
       "    <tr>\n",
       "      <th>456</th>\n",
       "      <td>Kwame Brown</td>\n",
       "      <td>2011-12</td>\n",
       "      <td>58044000</td>\n",
       "      <td>0.048567</td>\n",
       "      <td>0.036989</td>\n",
       "      <td>2819044</td>\n",
       "      <td>Room MLE</td>\n",
       "      <td>2147000</td>\n",
       "      <td>BAE</td>\n",
       "    </tr>\n",
       "    <tr>\n",
       "      <th>155</th>\n",
       "      <td>Jason Kapono</td>\n",
       "      <td>2006-07</td>\n",
       "      <td>55630000</td>\n",
       "      <td>0.096279</td>\n",
       "      <td>0.081277</td>\n",
       "      <td>5356000</td>\n",
       "      <td>Room MLE</td>\n",
       "      <td>4521456</td>\n",
       "      <td>Room MLE</td>\n",
       "    </tr>\n",
       "  </tbody>\n",
       "</table>\n",
       "</div>"
      ],
      "text/plain": [
       "                 Player previous season  salary_cap  cap_usage  \\\n",
       "632     Jimmer Fredette         2013-14    63065000   0.014513   \n",
       "661       Rasual Butler         2013-14    63065000   0.014513   \n",
       "930      Raymond Felton         2016-17    99093000   0.014848   \n",
       "966         Dwyane Wade         2017-18   101869000   0.014848   \n",
       "754     Michael Beasley         2014-15    70000000   0.004379   \n",
       "268       Jason Collins         2008-09    57700000   0.014307   \n",
       "1224     Dewayne Dedmon         2020-21   125000000   0.013353   \n",
       "722    Jason Richardson         2014-15    70000000   0.013533   \n",
       "1290         Tony Snell         2020-21   125000000   0.013353   \n",
       "400    Carldell Johnson         2011-12    58044000   0.008159   \n",
       "527        Donald Sloan         2012-13    58679000   0.015070   \n",
       "159        Juwan Howard         2006-07    55630000   0.013689   \n",
       "171     Mickael Pietrus         2006-07    55630000   0.062390   \n",
       "1263       Mike Muscala         2020-21   125000000   0.026923   \n",
       "167         Matt Bonner         2006-07    55630000   0.048535   \n",
       "166         Matt Barnes         2006-07    55630000   0.053928   \n",
       "45          Matt Bonner         2004-05    49500000   0.040404   \n",
       "35           Juan Dixon         2004-05    49500000   0.050505   \n",
       "66        Steven Hunter         2004-05    49500000   0.057471   \n",
       "329           Raja Bell         2009-10    58044000   0.051685   \n",
       "226      Anthony Parker         2008-09    57700000   0.045827   \n",
       "258        Ryan Hollins         2008-09    57700000   0.037839   \n",
       "609       Danny Granger         2013-14    63065000   0.032934   \n",
       "1084     Reggie Bullock         2018-19   109140000   0.036650   \n",
       "349         Matt Barnes         2009-10    58044000   0.030408   \n",
       "43          Malik Allen         2004-05    49500000   0.033737   \n",
       "362       Shannon Brown         2009-10    58044000   0.037027   \n",
       "636       Kent Bazemore         2013-14    63065000   0.031713   \n",
       "337         Craig Smith         2009-10    58044000   0.039625   \n",
       "29         Greg Buckner         2004-05    49500000   0.033737   \n",
       "350     Marquis Daniels         2009-10    58044000   0.041141   \n",
       "190      Antoine Wright         2007-08    58680000   0.030675   \n",
       "1120    Bismack Biyombo         2019-20   115000000   0.030435   \n",
       "1237      Georges Niang         2020-21   125000000   0.026400   \n",
       "778      Tyson Chandler         2014-15    70000000   0.185714   \n",
       "1150       Jerami Grant         2019-20   115000000   0.165652   \n",
       "847       Manu Ginobili         2015-16    94143000   0.148710   \n",
       "455      Kris Humphries         2011-12    58044000   0.206740   \n",
       "1072       Kyrie Irving         2018-19   109140000   0.290837   \n",
       "741   LaMarcus Aldridge         2014-15    70000000   0.281271   \n",
       "1287   Tim Hardaway Jr.         2020-21   125000000   0.170471   \n",
       "817         Ian Mahinmi         2015-16    94143000   0.169361   \n",
       "830         Joakim Noah         2015-16    94143000   0.180576   \n",
       "955          Chris Paul         2017-18   101869000   0.350000   \n",
       "39         Larry Hughes         2004-05    49500000   0.208988   \n",
       "478           Ray Allen         2011-12    58044000   0.055631   \n",
       "669    Shaun Livingston         2013-14    63065000   0.084120   \n",
       "750       Manu Ginobili         2014-15    70000000   0.040200   \n",
       "456         Kwame Brown         2011-12    58044000   0.048567   \n",
       "155        Jason Kapono         2006-07    55630000   0.096279   \n",
       "\n",
       "      pred_cap_usage    Salary salary_category  pred_salary  \\\n",
       "632         0.013283    915243           2 MIN       837715   \n",
       "661         0.015155    915243           2 MIN       955731   \n",
       "930         0.054685   1471382           2 MIN      5418932   \n",
       "966         0.043395   1512601           2 MIN      4420564   \n",
       "754         0.030198    306527           0 MIN      2113840   \n",
       "268         0.022314    825497           2 MIN      1287527   \n",
       "1224        0.021255   1669178           2 MIN      2656928   \n",
       "722         0.020153    947276           2 MIN      1410729   \n",
       "1290        0.030901   1669178           2 MIN      3862607   \n",
       "400         0.012989    473604           0 MIN       753939   \n",
       "527         0.023234    884293           2 MIN      1363375   \n",
       "159         0.077473    761544           2 MIN      4309795   \n",
       "171         0.056067   3470771             BAE      3119005   \n",
       "1263        0.032688   3365385             BAE      4086007   \n",
       "167         0.021239   2700000             BAE      1181540   \n",
       "166         0.055527   3000000             BAE      3088955   \n",
       "45          0.038221   2000000             BAE      1891921   \n",
       "35          0.048466   2500000             BAE      2399051   \n",
       "66          0.036657   2844828             BAE      1814516   \n",
       "329         0.046042   3000000             BAE      2672474   \n",
       "226         0.099304   2644231             BAE      5729838   \n",
       "258         0.017472   2183333             BAE      1008132   \n",
       "609         0.028740   2077000             BAE      1812507   \n",
       "1084        0.049569   4000000             BAE      5409998   \n",
       "349         0.106087   1765000             BAE      6157695   \n",
       "43          0.016459   1670000             BAE       814742   \n",
       "362         0.062831   2149200             BAE      3646946   \n",
       "636         0.013270   2000000             BAE       836901   \n",
       "337         0.032545   2300000             BAE      1889040   \n",
       "29          0.044437   1670000             BAE      2199639   \n",
       "350         0.021987   2388000             BAE      1276221   \n",
       "190         0.036171   1800000             BAE      2122537   \n",
       "1120        0.037828   3500000             BAE      4350188   \n",
       "1237        0.038916   3300000             BAE      4864540   \n",
       "778         0.106250  13000000         0-6 MAX      7437531   \n",
       "1150        0.105626  19050000         0-6 MAX     12146983   \n",
       "847         0.071912  14000000         0-6 MAX      6770023   \n",
       "455         0.151926  12000000         0-6 MAX      8818409   \n",
       "1072        0.311464  31742000         7-9 MAX     33993161   \n",
       "741         0.295194  19689000         7-9 MAX     20663564   \n",
       "1287        0.139612  21308816         0-6 MAX     17451519   \n",
       "817         0.106172  15944154         0-6 MAX      9995346   \n",
       "830         0.036852  17000000         0-6 MAX      3469363   \n",
       "955         0.252251  35654150         10+ MAX     25696561   \n",
       "39          0.285625  10344900         0-6 MAX     14138414   \n",
       "478         0.151576   3229050         Tax MLE      8798096   \n",
       "669         0.090664   5305000             MLE      5717714   \n",
       "750         0.055713   2814000        Room MLE      3899884   \n",
       "456         0.036989   2819044        Room MLE      2147000   \n",
       "155         0.081277   5356000        Room MLE      4521456   \n",
       "\n",
       "     salary_category_pred  \n",
       "632                 1 MIN  \n",
       "661                 3 MIN  \n",
       "930               Tax MLE  \n",
       "966              Room MLE  \n",
       "754                   BAE  \n",
       "268                10 MIN  \n",
       "1224                9 MIN  \n",
       "722                 9 MIN  \n",
       "1290                  BAE  \n",
       "400                 1 MIN  \n",
       "527                10 MIN  \n",
       "159              Room MLE  \n",
       "171                   BAE  \n",
       "1263                  BAE  \n",
       "167                10 MIN  \n",
       "166                   BAE  \n",
       "45                    BAE  \n",
       "35                    BAE  \n",
       "66                    BAE  \n",
       "329                   BAE  \n",
       "226              Room MLE  \n",
       "258                 6 MIN  \n",
       "609                   BAE  \n",
       "1084              Tax MLE  \n",
       "349              Room MLE  \n",
       "43                  5 MIN  \n",
       "362                   BAE  \n",
       "636                 1 MIN  \n",
       "337                   BAE  \n",
       "29                    BAE  \n",
       "350                 9 MIN  \n",
       "190                   BAE  \n",
       "1120             Room MLE  \n",
       "1237             Room MLE  \n",
       "778                   MLE  \n",
       "1150                  MLE  \n",
       "847                   MLE  \n",
       "455                   MLE  \n",
       "1072              7-9 MAX  \n",
       "741               7-9 MAX  \n",
       "1287                  MLE  \n",
       "817                   MLE  \n",
       "830               Tax MLE  \n",
       "955               0-6 MAX  \n",
       "39                7-9 MAX  \n",
       "478                   MLE  \n",
       "669                   MLE  \n",
       "750               Tax MLE  \n",
       "456                   BAE  \n",
       "155              Room MLE  "
      ]
     },
     "execution_count": 175,
     "metadata": {},
     "output_type": "execute_result"
    }
   ],
   "source": [
    "tmp[100:150]"
   ]
  },
  {
   "cell_type": "code",
   "execution_count": 177,
   "id": "9ab09055",
   "metadata": {},
   "outputs": [],
   "source": [
    "tmp['salary_category'] = tmp['salary_category'].apply(lambda x: x[-3:])\n",
    "tmp['salary_category_pred'] = tmp['salary_category_pred'].apply(lambda x: x[-3:])"
   ]
  },
  {
   "cell_type": "code",
   "execution_count": 180,
   "id": "a6624cdf",
   "metadata": {},
   "outputs": [
    {
     "data": {
      "text/plain": [
       "0.6468085106382979"
      ]
     },
     "execution_count": 180,
     "metadata": {},
     "output_type": "execute_result"
    }
   ],
   "source": [
    "np.sum(tmp['salary_category'] == tmp['salary_category_pred']) / tmp.shape[0]"
   ]
  }
 ],
 "metadata": {
  "kernelspec": {
   "display_name": "Python 3.8.2 64-bit ('DataScience': conda)",
   "language": "python",
   "name": "python38264bitdatascienceconda6647aa692cd647ca976aaa01095ed2f6"
  },
  "language_info": {
   "codemirror_mode": {
    "name": "ipython",
    "version": 3
   },
   "file_extension": ".py",
   "mimetype": "text/x-python",
   "name": "python",
   "nbconvert_exporter": "python",
   "pygments_lexer": "ipython3",
   "version": "3.8.5"
  }
 },
 "nbformat": 4,
 "nbformat_minor": 5
}

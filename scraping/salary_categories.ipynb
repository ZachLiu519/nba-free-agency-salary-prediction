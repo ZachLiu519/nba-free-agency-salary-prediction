{
 "cells": [
  {
   "cell_type": "code",
   "execution_count": 1,
   "id": "1da0c32c",
   "metadata": {},
   "outputs": [],
   "source": [
    "import requests\n",
    "from requests.adapters import HTTPAdapter\n",
    "from requests.packages.urllib3.util.retry import Retry\n",
    "from bs4 import BeautifulSoup\n",
    "import pandas as pd\n",
    "from multiprocessing import Pool\n",
    "import re\n",
    "import pickle"
   ]
  },
  {
   "cell_type": "code",
   "execution_count": 2,
   "id": "4a2acc51",
   "metadata": {},
   "outputs": [],
   "source": [
    "session = requests.Session()\n",
    "retry = Retry(connect=3, backoff_factor=0.5)\n",
    "adapter = HTTPAdapter(max_retries=retry)\n",
    "session.mount('http://', adapter)\n",
    "session.mount('https://', adapter)\n",
    "\n",
    "my_headers = {\n",
    "    'authority': 'basketball.realgm.com',\n",
    "    'cache-control': 'max-age=0',\n",
    "    'sec-ch-ua': '\" Not A;Brand\";v=\"99\", \"Chromium\";v=\"96\", \"Microsoft Edge\";v=\"96\"',\n",
    "    'sec-ch-ua-mobile': '?0',\n",
    "    'sec-ch-ua-platform': '\"Windows\"',\n",
    "    'upgrade-insecure-requests': '1',\n",
    "    'user-agent': 'Mozilla/5.0 (Windows NT 10.0; Win64; x64) AppleWebKit/537.36 (KHTML, like Gecko) Chrome/96.0.4664.55 Safari/537.36 Edg/96.0.1054.43',\n",
    "    'accept': 'text/html,application/xhtml+xml,application/xml;q=0.9,image/webp,image/apng,*/*;q=0.8,application/signed-exchange;v=b3;q=0.9',\n",
    "    'sec-fetch-site': 'cross-site',\n",
    "    'sec-fetch-mode': 'navigate',\n",
    "    'sec-fetch-user': '?1',\n",
    "    'sec-fetch-dest': 'document',\n",
    "    'referer': 'https://www.google.com/',\n",
    "    'accept-language': 'en,zh-CN;q=0.9,zh;q=0.8,en-US;q=0.7',\n",
    "}"
   ]
  },
  {
   "cell_type": "code",
   "execution_count": 3,
   "id": "0b84e5cc",
   "metadata": {},
   "outputs": [
    {
     "name": "stdout",
     "output_type": "stream",
     "text": [
      "<Response [200]>\n"
     ]
    }
   ],
   "source": [
    "url = 'https://basketball.realgm.com/nba/info/salary_cap'\n",
    "\n",
    "response = session.get(url, headers=my_headers)\n",
    "print(response)\n",
    "soup = BeautifulSoup(response.text)"
   ]
  },
  {
   "cell_type": "markdown",
   "id": "e46a477f",
   "metadata": {},
   "source": [
    "# BAE, MLEs and MAXs"
   ]
  },
  {
   "cell_type": "code",
   "execution_count": 153,
   "id": "d79611d5",
   "metadata": {},
   "outputs": [],
   "source": [
    "max_all = pd.DataFrame(\n",
    "            pd.read_html(\n",
    "                str(soup.find_all('table')[13])\n",
    "                        )[0].iloc[13:30].values)[[0, 1, 2, 3]].rename(\n",
    "                                                {0: 'season', 1: '0-6 YOS', 2: '7-9 YOS', 3: '10+ YOS'}, axis=1)"
   ]
  },
  {
   "cell_type": "code",
   "execution_count": 162,
   "id": "eda5e88a",
   "metadata": {},
   "outputs": [],
   "source": [
    "mle_all = pd.DataFrame(\n",
    "            pd.read_html(\n",
    "                str(soup.find_all('table')[12])\n",
    "                        )[0].iloc[13:30].values)[[0, 4, 5, 6]].rename(\n",
    "                                                {0: 'season', 4: 'MLE', 5: 'Tax MLE', 6: 'Room MLE'}, axis=1).ffill(axis ='columns')"
   ]
  },
  {
   "cell_type": "code",
   "execution_count": 163,
   "id": "b90ef9cd",
   "metadata": {},
   "outputs": [],
   "source": [
    "bae = pd.DataFrame(\n",
    "            pd.read_html(\n",
    "                str(soup.find_all('table')[12])\n",
    "                        )[0].iloc[13:30].values)[[0, 3]].rename({0: 'season', 3: 'BAE'}, axis=1)"
   ]
  },
  {
   "cell_type": "markdown",
   "id": "4d700283",
   "metadata": {},
   "source": [
    "# Minimum salary under different CBAs"
   ]
  },
  {
   "cell_type": "code",
   "execution_count": 53,
   "id": "c98ccb57",
   "metadata": {},
   "outputs": [],
   "source": [
    "url_2005_cba = 'https://basketball.realgm.com/nba/info/minimum_scale/2005'\n",
    "url_2011_cba = 'https://basketball.realgm.com/nba/info/minimum_scale/2011'\n",
    "url_2017_cba = 'https://basketball.realgm.com/nba/info/minimum_scale/2017'"
   ]
  },
  {
   "cell_type": "code",
   "execution_count": 57,
   "id": "54f38308",
   "metadata": {},
   "outputs": [
    {
     "name": "stdout",
     "output_type": "stream",
     "text": [
      "<Response [200]>\n"
     ]
    }
   ],
   "source": [
    "response_2005 = session.get(url_2005_cba, headers=my_headers)\n",
    "print(response_2005)\n",
    "soup_2005 = BeautifulSoup(response_2005.text)"
   ]
  },
  {
   "cell_type": "code",
   "execution_count": 65,
   "id": "dad64442",
   "metadata": {},
   "outputs": [],
   "source": [
    "min_2005 = pd.read_html(str(soup_2005.find_all('table')[12]))[0]"
   ]
  },
  {
   "cell_type": "code",
   "execution_count": 66,
   "id": "9e41077d",
   "metadata": {},
   "outputs": [
    {
     "name": "stdout",
     "output_type": "stream",
     "text": [
      "<Response [200]>\n"
     ]
    }
   ],
   "source": [
    "response_2011 = session.get(url_2011_cba, headers=my_headers)\n",
    "print(response_2011)\n",
    "soup_2011 = BeautifulSoup(response_2011.text)"
   ]
  },
  {
   "cell_type": "code",
   "execution_count": 67,
   "id": "b012b622",
   "metadata": {},
   "outputs": [],
   "source": [
    "min_2011 = pd.read_html(str(soup_2011.find_all('table')[12]))[0]"
   ]
  },
  {
   "cell_type": "code",
   "execution_count": 71,
   "id": "de4cfed3",
   "metadata": {},
   "outputs": [],
   "source": [
    "min_2011.drop(['2017-2018', '2018-2019', '2019-2020', '2020-2021'], axis=1, inplace=True)"
   ]
  },
  {
   "cell_type": "code",
   "execution_count": 72,
   "id": "1593b62b",
   "metadata": {},
   "outputs": [
    {
     "name": "stdout",
     "output_type": "stream",
     "text": [
      "<Response [200]>\n"
     ]
    }
   ],
   "source": [
    "response_2017 = session.get(url_2017_cba, headers=my_headers)\n",
    "print(response_2017)\n",
    "soup_2017 = BeautifulSoup(response_2017.text)"
   ]
  },
  {
   "cell_type": "code",
   "execution_count": 105,
   "id": "969a228f",
   "metadata": {},
   "outputs": [],
   "source": [
    "min_2017 = pd.read_html(str(soup_2017.find_all('table')[12]))[0]"
   ]
  },
  {
   "cell_type": "code",
   "execution_count": 106,
   "id": "52d412fb",
   "metadata": {},
   "outputs": [],
   "source": [
    "min_2017.rename({'Year 1': '2017-18', 'Year 2': '2018-19',\n",
    "                 'Year 3': '2019-20', 'Year 4': '2020-21',\n",
    "                 'Year 5': '2021-22'}, axis=1, inplace=True)"
   ]
  },
  {
   "cell_type": "code",
   "execution_count": 107,
   "id": "8914f23d",
   "metadata": {},
   "outputs": [],
   "source": [
    "min_2017.loc[0] = min_2017.loc[0].fillna('$815,615')"
   ]
  },
  {
   "cell_type": "code",
   "execution_count": 108,
   "id": "124f9fc1",
   "metadata": {},
   "outputs": [],
   "source": [
    "min_2017.loc[1] = min_2017.loc[1].fillna('$1,378,242')"
   ]
  },
  {
   "cell_type": "code",
   "execution_count": 109,
   "id": "7467b759",
   "metadata": {},
   "outputs": [],
   "source": [
    "min_2017.loc[2] = min_2017.loc[2].fillna('$1,618,520')"
   ]
  },
  {
   "cell_type": "code",
   "execution_count": 110,
   "id": "31f13f2a",
   "metadata": {},
   "outputs": [],
   "source": [
    "min_2017.loc[3] = min_2017.loc[3].fillna('$1,752,950')"
   ]
  },
  {
   "cell_type": "code",
   "execution_count": 111,
   "id": "5a40972b",
   "metadata": {},
   "outputs": [],
   "source": [
    "min_2017['YOS'] = min_2005['YOS']"
   ]
  },
  {
   "cell_type": "code",
   "execution_count": 112,
   "id": "654ffd7b",
   "metadata": {},
   "outputs": [],
   "source": [
    "min_all = min_2005.merge(min_2011, how='left',\n",
    "                         left_on = 'YOS', right_on = 'YOS').merge(min_2017, how='left',\n",
    "                                                                  left_on = 'YOS', right_on = 'YOS')"
   ]
  },
  {
   "cell_type": "code",
   "execution_count": 174,
   "id": "ba3ac21d",
   "metadata": {},
   "outputs": [
    {
     "name": "stderr",
     "output_type": "stream",
     "text": [
      "<ipython-input-174-b085fbef51af>:1: FutureWarning: The default value of regex will change from True to False in a future version.\n",
      "  min_all.columns = min_all.columns.str.replace(r'(-20)', \"-\")\n"
     ]
    }
   ],
   "source": [
    "min_all.columns = min_all.columns.str.replace(r'(-20)', \"-\")"
   ]
  },
  {
   "cell_type": "code",
   "execution_count": 176,
   "id": "12b2e32d",
   "metadata": {},
   "outputs": [],
   "source": [
    "min_all.rename({'2019-': '2019-20'}, axis=1, inplace=True)"
   ]
  },
  {
   "cell_type": "code",
   "execution_count": 190,
   "id": "1be1dbb6",
   "metadata": {},
   "outputs": [],
   "source": [
    "min_all = min_all.T.reset_index().iloc[1:].rename({'index': 'season'}, axis=1)"
   ]
  },
  {
   "cell_type": "markdown",
   "id": "f874fcba",
   "metadata": {},
   "source": [
    "# Rename rows and columns for final merge"
   ]
  },
  {
   "cell_type": "code",
   "execution_count": 194,
   "id": "a6134a76",
   "metadata": {},
   "outputs": [],
   "source": [
    "max_all.columns = max_all.columns.str.replace('YOS', 'MAX')"
   ]
  },
  {
   "cell_type": "code",
   "execution_count": 220,
   "id": "1205b20f",
   "metadata": {},
   "outputs": [],
   "source": [
    "max_all['season'] = max_all['season'].apply(lambda x: x[:5] + x[-2:])"
   ]
  },
  {
   "cell_type": "code",
   "execution_count": 222,
   "id": "cf9a85ab",
   "metadata": {},
   "outputs": [],
   "source": [
    "mle_all['season'] = mle_all['season'].apply(lambda x: x[:5] + x[-2:])\n",
    "bae['season'] = bae['season'].apply(lambda x: x[:5] + x[-2:])"
   ]
  },
  {
   "cell_type": "code",
   "execution_count": 202,
   "id": "c3aa8985",
   "metadata": {},
   "outputs": [],
   "source": [
    "min_all = min_all.add_suffix(' MIN').rename({'season MIN': 'season'}, axis=1)"
   ]
  },
  {
   "cell_type": "code",
   "execution_count": 211,
   "id": "4b20feea",
   "metadata": {},
   "outputs": [],
   "source": [
    "min_all = min_all[::-1].reset_index(drop=True)"
   ]
  },
  {
   "cell_type": "code",
   "execution_count": 251,
   "id": "ffca39b4",
   "metadata": {},
   "outputs": [],
   "source": [
    "salary_categories = max_all.merge(min_all, how='left',\n",
    "                                  on='season').merge(mle_all, how='left',\n",
    "                                                    on='season').merge(bae, how='left',\n",
    "                                                                      on = 'season')\n",
    "salary_categories.set_index('season', inplace=True)\n",
    "salary_categories = salary_categories.applymap(lambda x: int(re.sub(r'[^\\d.]', '', x)))"
   ]
  },
  {
   "cell_type": "code",
   "execution_count": 253,
   "id": "bcd9bcdf",
   "metadata": {},
   "outputs": [],
   "source": [
    "salary_categories_dict = salary_categories.to_dict('index')"
   ]
  },
  {
   "cell_type": "code",
   "execution_count": 261,
   "id": "a94ac878",
   "metadata": {},
   "outputs": [],
   "source": [
    "for K in salary_categories_dict:\n",
    "    salary_categories_dict[K] = {v: k for k, v in salary_categories_dict[K].items()}"
   ]
  },
  {
   "cell_type": "code",
   "execution_count": 263,
   "id": "9a47b3ba",
   "metadata": {},
   "outputs": [],
   "source": [
    "with open('salary_categories_dict.pickle', 'wb') as handle:\n",
    "    pickle.dump(salary_categories_dict, handle)"
   ]
  }
 ],
 "metadata": {
  "kernelspec": {
   "display_name": "Python 3.8.2 64-bit ('DataScience': conda)",
   "language": "python",
   "name": "python38264bitdatascienceconda6647aa692cd647ca976aaa01095ed2f6"
  },
  "language_info": {
   "codemirror_mode": {
    "name": "ipython",
    "version": 3
   },
   "file_extension": ".py",
   "mimetype": "text/x-python",
   "name": "python",
   "nbconvert_exporter": "python",
   "pygments_lexer": "ipython3",
   "version": "3.8.5"
  }
 },
 "nbformat": 4,
 "nbformat_minor": 5
}

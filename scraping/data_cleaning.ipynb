{
 "cells": [
  {
   "cell_type": "code",
   "execution_count": 85,
   "metadata": {},
   "outputs": [],
   "source": [
    "import numpy as np\n",
    "import pickle\n",
    "import pandas as pd\n",
    "import re"
   ]
  },
  {
   "cell_type": "code",
   "execution_count": 296,
   "metadata": {},
   "outputs": [],
   "source": [
    "pd.set_option('display.max_rows', 100)\n",
    "pd.set_option('display.max_columns', 100)"
   ]
  },
  {
   "cell_type": "markdown",
   "metadata": {},
   "source": [
    "# Merge player stats"
   ]
  },
  {
   "cell_type": "code",
   "execution_count": 148,
   "metadata": {},
   "outputs": [],
   "source": [
    "with open('player_stats.pickle', 'rb') as handle:\n",
    "    player_stats = pickle.load(handle)"
   ]
  },
  {
   "cell_type": "code",
   "execution_count": 149,
   "metadata": {},
   "outputs": [],
   "source": [
    "all_seasons = []\n",
    "for season_stats in player_stats:\n",
    "    all_teams = []\n",
    "    for team_stats in season_stats:\n",
    "        team = pd.concat(team_stats, axis=1)\n",
    "        all_teams.append(team)\n",
    "    all_teams = pd.concat(all_teams, axis=0)\n",
    "    all_seasons.append(all_teams)\n",
    "all_stats = pd.concat(all_seasons)"
   ]
  },
  {
   "cell_type": "markdown",
   "metadata": {},
   "source": [
    "## Clean column name"
   ]
  },
  {
   "cell_type": "code",
   "execution_count": 154,
   "metadata": {},
   "outputs": [],
   "source": [
    "all_stats = all_stats.rename(columns = lambda x: re.sub(r'(Unnamed: \\d_\\w+_\\d\\s)|(\\sUnnamed: \\d_\\w+_\\d)|(\\sUnnamed: \\d_\\w+_\\d\\s)', '', x))"
   ]
  },
  {
   "cell_type": "code",
   "execution_count": 155,
   "metadata": {},
   "outputs": [],
   "source": [
    "all_stats = all_stats.loc[:,~all_stats.columns.duplicated()]"
   ]
  },
  {
   "cell_type": "markdown",
   "metadata": {},
   "source": [
    "# Merge on off stats"
   ]
  },
  {
   "cell_type": "code",
   "execution_count": 178,
   "metadata": {},
   "outputs": [],
   "source": [
    "with open('onoff_stats.pickle', 'rb') as handle:\n",
    "    onoff_stats = pickle.load(handle)"
   ]
  },
  {
   "cell_type": "code",
   "execution_count": 179,
   "metadata": {},
   "outputs": [],
   "source": [
    "all_seasons = []\n",
    "for season_stats in onoff_stats:\n",
    "    all_teams = []\n",
    "    for team_stats in season_stats:\n",
    "        team = pd.concat(team_stats, axis=1)\n",
    "        all_teams.append(team)\n",
    "    all_teams = pd.concat(all_teams, axis=0)\n",
    "    all_seasons.append(all_teams)\n",
    "all_stats_on_off = pd.concat(all_seasons)"
   ]
  },
  {
   "cell_type": "markdown",
   "metadata": {},
   "source": [
    "## Clean column name"
   ]
  },
  {
   "cell_type": "code",
   "execution_count": 183,
   "metadata": {},
   "outputs": [],
   "source": [
    "all_stats_on_off = all_stats_on_off.rename(columns = lambda x: re.sub(r'(Unnamed: \\d_\\w+_\\d\\s)|(\\sUnnamed: \\d_\\w+_\\d)|(\\sUnnamed: \\d_\\w+_\\d\\s)', '', x))"
   ]
  },
  {
   "cell_type": "code",
   "execution_count": 184,
   "metadata": {},
   "outputs": [],
   "source": [
    "all_stats_on_off.drop([x for x in list(all_stats_on_off.columns) if re.search(r'Unnamed', x)], axis=1, inplace=True)"
   ]
  },
  {
   "cell_type": "code",
   "execution_count": 185,
   "metadata": {},
   "outputs": [],
   "source": [
    "all_stats_on_off = all_stats_on_off.loc[:,~all_stats_on_off.columns.duplicated()]"
   ]
  },
  {
   "cell_type": "code",
   "execution_count": 186,
   "metadata": {},
   "outputs": [
    {
     "data": {
      "text/plain": [
       "(9638, 103)"
      ]
     },
     "execution_count": 186,
     "metadata": {},
     "output_type": "execute_result"
    }
   ],
   "source": [
    "all_stats_on_off.shape"
   ]
  },
  {
   "cell_type": "markdown",
   "metadata": {},
   "source": [
    "# Filter free agents"
   ]
  },
  {
   "cell_type": "code",
   "execution_count": 140,
   "metadata": {},
   "outputs": [],
   "source": [
    "with open('free_agents.pickle', 'rb') as handle:\n",
    "    free_agents = pickle.load(handle)"
   ]
  },
  {
   "cell_type": "code",
   "execution_count": 190,
   "metadata": {},
   "outputs": [],
   "source": [
    "all_stats = all_stats.drop_duplicates(['Player', 'season'])"
   ]
  },
  {
   "cell_type": "code",
   "execution_count": 192,
   "metadata": {},
   "outputs": [],
   "source": [
    "all_stats_on_off = all_stats_on_off.drop_duplicates(['Player', 'season'])"
   ]
  },
  {
   "cell_type": "code",
   "execution_count": 202,
   "metadata": {},
   "outputs": [],
   "source": [
    "free_agents_stats = free_agents.merge(all_stats, how='left',\n",
    "            left_on=['Player', 'previous season'],\n",
    "            right_on=['Player', 'season']).merge(all_stats_on_off, how='left',\n",
    "                                                left_on=['Player', 'previous season'],\n",
    "                                                right_on=['Player', 'season'])"
   ]
  },
  {
   "cell_type": "code",
   "execution_count": 205,
   "metadata": {},
   "outputs": [
    {
     "name": "stdout",
     "output_type": "stream",
     "text": [
      "<class 'pandas.core.frame.DataFrame'>\n",
      "Int64Index: 4444 entries, 0 to 4443\n",
      "Columns: 188 entries, Player to Opponent Shot Frequency AllThree #\n",
      "dtypes: float64(113), object(75)\n",
      "memory usage: 6.4+ MB\n"
     ]
    }
   ],
   "source": [
    "free_agents_stats.info('memory_usage'=='deep')"
   ]
  },
  {
   "cell_type": "markdown",
   "metadata": {},
   "source": [
    "# Data Cleaning"
   ]
  },
  {
   "cell_type": "code",
   "execution_count": 228,
   "metadata": {},
   "outputs": [],
   "source": [
    "import seaborn as sns"
   ]
  },
  {
   "cell_type": "code",
   "execution_count": 208,
   "metadata": {},
   "outputs": [],
   "source": [
    "columns = free_agents_stats.columns"
   ]
  },
  {
   "cell_type": "code",
   "execution_count": 216,
   "metadata": {},
   "outputs": [
    {
     "data": {
      "text/plain": [
       "4444"
      ]
     },
     "execution_count": 216,
     "metadata": {},
     "output_type": "execute_result"
    }
   ],
   "source": [
    "free_agents_stats.shape[0]"
   ]
  },
  {
   "cell_type": "code",
   "execution_count": 218,
   "metadata": {},
   "outputs": [],
   "source": [
    "columns_to_drop = []\n",
    "for c in columns:\n",
    "    if free_agents_stats[c].isnull().sum() == free_agents_stats.shape[0]:\n",
    "        columns_to_drop.append(c)"
   ]
  },
  {
   "cell_type": "code",
   "execution_count": 219,
   "metadata": {},
   "outputs": [],
   "source": [
    "free_agents_stats.drop(columns=columns_to_drop, inplace=True)"
   ]
  },
  {
   "cell_type": "code",
   "execution_count": 254,
   "metadata": {},
   "outputs": [],
   "source": [
    "free_agents_stats = free_agents_stats.loc[free_agents_stats.apply(pd.Series.isnull, axis=0).apply(pd.Series.sum, axis=1).apply(lambda x: x <= free_agents_stats.shape[1]/3), :]"
   ]
  },
  {
   "cell_type": "code",
   "execution_count": 259,
   "metadata": {},
   "outputs": [
    {
     "data": {
      "text/plain": [
       "<AxesSubplot:>"
      ]
     },
     "execution_count": 259,
     "metadata": {},
     "output_type": "execute_result"
    },
    {
     "data": {
      "image/png": "[encoded data removed]",
      "text/plain": [
       "<Figure size 432x288 with 1 Axes>"
      ]
     },
     "metadata": {
      "needs_background": "light"
     },
     "output_type": "display_data"
    }
   ],
   "source": [
    "sns.distplot(a=free_agents_stats.apply(pd.Series.isnull, axis=0).apply(pd.Series.sum, axis=1).values)"
   ]
  },
  {
   "cell_type": "code",
   "execution_count": 260,
   "metadata": {},
   "outputs": [
    {
     "name": "stderr",
     "output_type": "stream",
     "text": [
      "/home/zach/miniconda3/envs/DataScience/lib/python3.8/site-packages/pandas/core/frame.py:5176: SettingWithCopyWarning: \n",
      "A value is trying to be set on a copy of a slice from a DataFrame\n",
      "\n",
      "See the caveats in the documentation: https://pandas.pydata.org/pandas-docs/stable/user_guide/indexing.html#returning-a-view-versus-a-copy\n",
      "  return super().fillna(\n"
     ]
    }
   ],
   "source": [
    "free_agents_stats.fillna(0, inplace=True)"
   ]
  },
  {
   "cell_type": "code",
   "execution_count": 269,
   "metadata": {},
   "outputs": [
    {
     "data": {
      "text/plain": [
       "['MIN_x',\n",
       " 'id_x',\n",
       " 'season_x',\n",
       " 'eFG% %_x',\n",
       " 'eFG% #_x',\n",
       " 'MIN_y',\n",
       " 'id_y',\n",
       " 'season_y',\n",
       " 'eFG% %_y',\n",
       " 'eFG% #_y']"
      ]
     },
     "execution_count": 269,
     "metadata": {},
     "output_type": "execute_result"
    }
   ],
   "source": [
    "[c for c in free_agents_stats.columns if ('_x' in c) or ('_y' in c)]"
   ]
  },
  {
   "cell_type": "code",
   "execution_count": 270,
   "metadata": {},
   "outputs": [
    {
     "data": {
      "text/html": [
       "<div>\n",
       "<style scoped>\n",
       "    .dataframe tbody tr th:only-of-type {\n",
       "        vertical-align: middle;\n",
       "    }\n",
       "\n",
       "    .dataframe tbody tr th {\n",
       "        vertical-align: top;\n",
       "    }\n",
       "\n",
       "    .dataframe thead th {\n",
       "        text-align: right;\n",
       "    }\n",
       "</style>\n",
       "<table border=\"1\" class=\"dataframe\">\n",
       "  <thead>\n",
       "    <tr style=\"text-align: right;\">\n",
       "      <th></th>\n",
       "      <th>MIN_x</th>\n",
       "      <th>id_x</th>\n",
       "      <th>season_x</th>\n",
       "      <th>eFG% %_x</th>\n",
       "      <th>eFG% #_x</th>\n",
       "      <th>MIN_y</th>\n",
       "      <th>id_y</th>\n",
       "      <th>season_y</th>\n",
       "      <th>eFG% %_y</th>\n",
       "      <th>eFG% #_y</th>\n",
       "    </tr>\n",
       "  </thead>\n",
       "  <tbody>\n",
       "    <tr>\n",
       "      <th>0</th>\n",
       "      <td>1763.0</td>\n",
       "      <td>3870</td>\n",
       "      <td>2004-05</td>\n",
       "      <td>59.0</td>\n",
       "      <td>48.2%</td>\n",
       "      <td>1763.0</td>\n",
       "      <td>3870</td>\n",
       "      <td>2004-05</td>\n",
       "      <td>47.0</td>\n",
       "      <td>-0.4%</td>\n",
       "    </tr>\n",
       "    <tr>\n",
       "      <th>1</th>\n",
       "      <td>1388.0</td>\n",
       "      <td>67</td>\n",
       "      <td>2004-05</td>\n",
       "      <td>89.0</td>\n",
       "      <td>54.0%</td>\n",
       "      <td>1388.0</td>\n",
       "      <td>67</td>\n",
       "      <td>2004-05</td>\n",
       "      <td>92.0</td>\n",
       "      <td>+3.2%</td>\n",
       "    </tr>\n",
       "    <tr>\n",
       "      <th>2</th>\n",
       "      <td>1784.0</td>\n",
       "      <td>250</td>\n",
       "      <td>2004-05</td>\n",
       "      <td>63.0</td>\n",
       "      <td>49.9%</td>\n",
       "      <td>1784.0</td>\n",
       "      <td>250</td>\n",
       "      <td>2004-05</td>\n",
       "      <td>53.0</td>\n",
       "      <td>-0.0%</td>\n",
       "    </tr>\n",
       "    <tr>\n",
       "      <th>4</th>\n",
       "      <td>1771.0</td>\n",
       "      <td>792</td>\n",
       "      <td>2004-05</td>\n",
       "      <td>80.0</td>\n",
       "      <td>52.5%</td>\n",
       "      <td>1771.0</td>\n",
       "      <td>792</td>\n",
       "      <td>2004-05</td>\n",
       "      <td>89.0</td>\n",
       "      <td>+2.7%</td>\n",
       "    </tr>\n",
       "    <tr>\n",
       "      <th>5</th>\n",
       "      <td>1998.0</td>\n",
       "      <td>797</td>\n",
       "      <td>2004-05</td>\n",
       "      <td>74.0</td>\n",
       "      <td>48.4%</td>\n",
       "      <td>1998.0</td>\n",
       "      <td>797</td>\n",
       "      <td>2004-05</td>\n",
       "      <td>71.0</td>\n",
       "      <td>+1.2%</td>\n",
       "    </tr>\n",
       "    <tr>\n",
       "      <th>...</th>\n",
       "      <td>...</td>\n",
       "      <td>...</td>\n",
       "      <td>...</td>\n",
       "      <td>...</td>\n",
       "      <td>...</td>\n",
       "      <td>...</td>\n",
       "      <td>...</td>\n",
       "      <td>...</td>\n",
       "      <td>...</td>\n",
       "      <td>...</td>\n",
       "    </tr>\n",
       "    <tr>\n",
       "      <th>4433</th>\n",
       "      <td>239.0</td>\n",
       "      <td>3346</td>\n",
       "      <td>2019-20</td>\n",
       "      <td>3.0</td>\n",
       "      <td>37.3%</td>\n",
       "      <td>239.0</td>\n",
       "      <td>3346</td>\n",
       "      <td>2019-20</td>\n",
       "      <td>7.0</td>\n",
       "      <td>-4.2%</td>\n",
       "    </tr>\n",
       "    <tr>\n",
       "      <th>4434</th>\n",
       "      <td>280.0</td>\n",
       "      <td>4691</td>\n",
       "      <td>2019-20</td>\n",
       "      <td>74.0</td>\n",
       "      <td>59.4%</td>\n",
       "      <td>280.0</td>\n",
       "      <td>4691</td>\n",
       "      <td>2019-20</td>\n",
       "      <td>12.0</td>\n",
       "      <td>-3.2%</td>\n",
       "    </tr>\n",
       "    <tr>\n",
       "      <th>4437</th>\n",
       "      <td>226.0</td>\n",
       "      <td>4324</td>\n",
       "      <td>2019-20</td>\n",
       "      <td>70.0</td>\n",
       "      <td>58.8%</td>\n",
       "      <td>226.0</td>\n",
       "      <td>4324</td>\n",
       "      <td>2019-20</td>\n",
       "      <td>89.0</td>\n",
       "      <td>+3.0%</td>\n",
       "    </tr>\n",
       "    <tr>\n",
       "      <th>4438</th>\n",
       "      <td>921.0</td>\n",
       "      <td>3627</td>\n",
       "      <td>2019-20</td>\n",
       "      <td>35.0</td>\n",
       "      <td>49.6%</td>\n",
       "      <td>921.0</td>\n",
       "      <td>3627</td>\n",
       "      <td>2019-20</td>\n",
       "      <td>68.0</td>\n",
       "      <td>+0.9%</td>\n",
       "    </tr>\n",
       "    <tr>\n",
       "      <th>4441</th>\n",
       "      <td>155.0</td>\n",
       "      <td>3808</td>\n",
       "      <td>2019-20</td>\n",
       "      <td>17.0</td>\n",
       "      <td>46.1%</td>\n",
       "      <td>155.0</td>\n",
       "      <td>3808</td>\n",
       "      <td>2019-20</td>\n",
       "      <td>99.0</td>\n",
       "      <td>+5.7%</td>\n",
       "    </tr>\n",
       "  </tbody>\n",
       "</table>\n",
       "<p>2084 rows × 10 columns</p>\n",
       "</div>"
      ],
      "text/plain": [
       "       MIN_x  id_x season_x  eFG% %_x eFG% #_x   MIN_y  id_y season_y  \\\n",
       "0     1763.0  3870  2004-05      59.0    48.2%  1763.0  3870  2004-05   \n",
       "1     1388.0    67  2004-05      89.0    54.0%  1388.0    67  2004-05   \n",
       "2     1784.0   250  2004-05      63.0    49.9%  1784.0   250  2004-05   \n",
       "4     1771.0   792  2004-05      80.0    52.5%  1771.0   792  2004-05   \n",
       "5     1998.0   797  2004-05      74.0    48.4%  1998.0   797  2004-05   \n",
       "...      ...   ...      ...       ...      ...     ...   ...      ...   \n",
       "4433   239.0  3346  2019-20       3.0    37.3%   239.0  3346  2019-20   \n",
       "4434   280.0  4691  2019-20      74.0    59.4%   280.0  4691  2019-20   \n",
       "4437   226.0  4324  2019-20      70.0    58.8%   226.0  4324  2019-20   \n",
       "4438   921.0  3627  2019-20      35.0    49.6%   921.0  3627  2019-20   \n",
       "4441   155.0  3808  2019-20      17.0    46.1%   155.0  3808  2019-20   \n",
       "\n",
       "      eFG% %_y eFG% #_y  \n",
       "0         47.0    -0.4%  \n",
       "1         92.0    +3.2%  \n",
       "2         53.0    -0.0%  \n",
       "4         89.0    +2.7%  \n",
       "5         71.0    +1.2%  \n",
       "...        ...      ...  \n",
       "4433       7.0    -4.2%  \n",
       "4434      12.0    -3.2%  \n",
       "4437      89.0    +3.0%  \n",
       "4438      68.0    +0.9%  \n",
       "4441      99.0    +5.7%  \n",
       "\n",
       "[2084 rows x 10 columns]"
      ]
     },
     "execution_count": 270,
     "metadata": {},
     "output_type": "execute_result"
    }
   ],
   "source": [
    "free_agents_stats[[c for c in free_agents_stats.columns if ('_x' in c) or ('_y' in c)]]"
   ]
  },
  {
   "cell_type": "code",
   "execution_count": null,
   "metadata": {},
   "outputs": [],
   "source": [
    "free_agents_stats.drop(columns=['MIN_y', 'id_y', 'season_y'], inplace=True)"
   ]
  },
  {
   "cell_type": "code",
   "execution_count": 272,
   "metadata": {},
   "outputs": [
    {
     "name": "stderr",
     "output_type": "stream",
     "text": [
      "/home/zach/miniconda3/envs/DataScience/lib/python3.8/site-packages/pandas/core/frame.py:5039: SettingWithCopyWarning: \n",
      "A value is trying to be set on a copy of a slice from a DataFrame\n",
      "\n",
      "See the caveats in the documentation: https://pandas.pydata.org/pandas-docs/stable/user_guide/indexing.html#returning-a-view-versus-a-copy\n",
      "  return super().rename(\n"
     ]
    }
   ],
   "source": [
    "free_agents_stats.rename({'MIN_x': 'MIN', 'id_x': 'id', 'season_x': 'season',\n",
    "                          'eFG% %_x': 'Player eFG% %', 'eFG% #_x': 'Player eFG% #',\n",
    "                          'eFG% %_y': 'Team eFG% %', 'eFG% #_y': 'Team eFG% #'}, axis=1, inplace=True)"
   ]
  },
  {
   "cell_type": "markdown",
   "metadata": {},
   "source": [
    "# Merge salary"
   ]
  },
  {
   "cell_type": "code",
   "execution_count": 279,
   "metadata": {},
   "outputs": [
    {
     "name": "stderr",
     "output_type": "stream",
     "text": [
      "<ipython-input-279-114589cbbd4d>:1: SettingWithCopyWarning: \n",
      "A value is trying to be set on a copy of a slice from a DataFrame.\n",
      "Try using .loc[row_indexer,col_indexer] = value instead\n",
      "\n",
      "See the caveats in the documentation: https://pandas.pydata.org/pandas-docs/stable/user_guide/indexing.html#returning-a-view-versus-a-copy\n",
      "  free_agents_stats['Next season'] = free_agents_stats['season'].apply(lambda x: str(int(x[:4])+1) + \"-\" + str(int(x[:4])+2)[2:])\n"
     ]
    }
   ],
   "source": [
    "free_agents_stats['Next season'] = free_agents_stats['season'].apply(lambda x: str(int(x[:4])+1) + \"-\" + str(int(x[:4])+2)[2:])"
   ]
  },
  {
   "cell_type": "code",
   "execution_count": 313,
   "metadata": {},
   "outputs": [],
   "source": [
    "with open(\"player_salaries.pickle\", 'rb') as handle:\n",
    "    player_salaries = pickle.load(handle)"
   ]
  },
  {
   "cell_type": "code",
   "execution_count": 315,
   "metadata": {},
   "outputs": [],
   "source": [
    "player_salaries = pd.concat(player_salaries, axis=0)"
   ]
  },
  {
   "cell_type": "code",
   "execution_count": 321,
   "metadata": {},
   "outputs": [
    {
     "data": {
      "text/html": [
       "<div>\n",
       "<style scoped>\n",
       "    .dataframe tbody tr th:only-of-type {\n",
       "        vertical-align: middle;\n",
       "    }\n",
       "\n",
       "    .dataframe tbody tr th {\n",
       "        vertical-align: top;\n",
       "    }\n",
       "\n",
       "    .dataframe thead th {\n",
       "        text-align: right;\n",
       "    }\n",
       "</style>\n",
       "<table border=\"1\" class=\"dataframe\">\n",
       "  <thead>\n",
       "    <tr style=\"text-align: right;\">\n",
       "      <th></th>\n",
       "      <th>Player</th>\n",
       "      <th>Salary</th>\n",
       "      <th>season</th>\n",
       "    </tr>\n",
       "  </thead>\n",
       "  <tbody>\n",
       "    <tr>\n",
       "      <th>54</th>\n",
       "      <td>Jason Richardson</td>\n",
       "      <td>8888888</td>\n",
       "      <td>2005-06</td>\n",
       "    </tr>\n",
       "    <tr>\n",
       "      <th>46</th>\n",
       "      <td>Jason Richardson</td>\n",
       "      <td>9999999</td>\n",
       "      <td>2006-07</td>\n",
       "    </tr>\n",
       "    <tr>\n",
       "      <th>48</th>\n",
       "      <td>Jason Richardson</td>\n",
       "      <td>11111110</td>\n",
       "      <td>2007-08</td>\n",
       "    </tr>\n",
       "    <tr>\n",
       "      <th>39</th>\n",
       "      <td>Jason Richardson</td>\n",
       "      <td>12664335</td>\n",
       "      <td>2008-09</td>\n",
       "    </tr>\n",
       "    <tr>\n",
       "      <th>31</th>\n",
       "      <td>Jason Richardson</td>\n",
       "      <td>13333333</td>\n",
       "      <td>2009-10</td>\n",
       "    </tr>\n",
       "    <tr>\n",
       "      <th>23</th>\n",
       "      <td>Jason Richardson</td>\n",
       "      <td>14444444</td>\n",
       "      <td>2010-11</td>\n",
       "    </tr>\n",
       "    <tr>\n",
       "      <th>126</th>\n",
       "      <td>Jason Richardson</td>\n",
       "      <td>5395000</td>\n",
       "      <td>2011-12</td>\n",
       "    </tr>\n",
       "    <tr>\n",
       "      <th>121</th>\n",
       "      <td>Jason Richardson</td>\n",
       "      <td>5799625</td>\n",
       "      <td>2012-13</td>\n",
       "    </tr>\n",
       "    <tr>\n",
       "      <th>121</th>\n",
       "      <td>Jason Richardson</td>\n",
       "      <td>6204250</td>\n",
       "      <td>2013-14</td>\n",
       "    </tr>\n",
       "    <tr>\n",
       "      <th>116</th>\n",
       "      <td>Jason Richardson</td>\n",
       "      <td>6601125</td>\n",
       "      <td>2014-15</td>\n",
       "    </tr>\n",
       "  </tbody>\n",
       "</table>\n",
       "</div>"
      ],
      "text/plain": [
       "               Player    Salary   season\n",
       "54   Jason Richardson   8888888  2005-06\n",
       "46   Jason Richardson   9999999  2006-07\n",
       "48   Jason Richardson  11111110  2007-08\n",
       "39   Jason Richardson  12664335  2008-09\n",
       "31   Jason Richardson  13333333  2009-10\n",
       "23   Jason Richardson  14444444  2010-11\n",
       "126  Jason Richardson   5395000  2011-12\n",
       "121  Jason Richardson   5799625  2012-13\n",
       "121  Jason Richardson   6204250  2013-14\n",
       "116  Jason Richardson   6601125  2014-15"
      ]
     },
     "execution_count": 321,
     "metadata": {},
     "output_type": "execute_result"
    }
   ],
   "source": [
    "player_salaries[player_salaries['Player']=='Jason Richardson']"
   ]
  },
  {
   "cell_type": "code",
   "execution_count": 316,
   "metadata": {},
   "outputs": [],
   "source": [
    "stats_salaries = free_agents_stats.merge(player_salaries, how='left',\n",
    "                        left_on=['Player', 'Next season'], right_on=['Player', 'season'])"
   ]
  },
  {
   "cell_type": "code",
   "execution_count": 322,
   "metadata": {},
   "outputs": [],
   "source": [
    "stats_salaries = stats_salaries.loc[~stats_salaries['Salary'].isnull()]"
   ]
  },
  {
   "cell_type": "code",
   "execution_count": 324,
   "metadata": {},
   "outputs": [
    {
     "data": {
      "text/plain": [
       "['season_x', 'season_y']"
      ]
     },
     "execution_count": 324,
     "metadata": {},
     "output_type": "execute_result"
    }
   ],
   "source": [
    "stats_salaries.drop(columns=['season_x', 'season_y'], inplace=True)\n",
    "stats_salaries.rename({})"
   ]
  }
 ],
 "metadata": {
  "kernelspec": {
   "display_name": "Python 3.8.2 64-bit ('DataScience': conda)",
   "language": "python",
   "name": "python38264bitdatascienceconda6647aa692cd647ca976aaa01095ed2f6"
  },
  "language_info": {
   "codemirror_mode": {
    "name": "ipython",
    "version": 3
   },
   "file_extension": ".py",
   "mimetype": "text/x-python",
   "name": "python",
   "nbconvert_exporter": "python",
   "pygments_lexer": "ipython3",
   "version": "3.8.5"
  }
 },
 "nbformat": 4,
 "nbformat_minor": 4
}

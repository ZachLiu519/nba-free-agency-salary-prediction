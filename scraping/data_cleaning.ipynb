{
 "cells": [
  {
   "cell_type": "code",
   "execution_count": 81,
   "metadata": {},
   "outputs": [],
   "source": [
    "import numpy as np\n",
    "import pickle\n",
    "import pandas as pd\n",
    "import re\n",
    "import unicodedata"
   ]
  },
  {
   "cell_type": "code",
   "execution_count": 82,
   "metadata": {},
   "outputs": [],
   "source": [
    "pd.set_option('display.max_rows', 100)\n",
    "pd.set_option('display.max_columns', 100)"
   ]
  },
  {
   "cell_type": "markdown",
   "metadata": {},
   "source": [
    "# Merge player stats"
   ]
  },
  {
   "cell_type": "code",
   "execution_count": 83,
   "metadata": {},
   "outputs": [],
   "source": [
    "with open('player_stats.pickle', 'rb') as handle:\n",
    "    player_stats = pickle.load(handle)"
   ]
  },
  {
   "cell_type": "code",
   "execution_count": 84,
   "metadata": {},
   "outputs": [],
   "source": [
    "all_seasons = []\n",
    "for season_stats in player_stats:\n",
    "    all_teams = []\n",
    "    for team_stats in season_stats:\n",
    "        team = pd.concat(team_stats, axis=1)\n",
    "        all_teams.append(team)\n",
    "    all_teams = pd.concat(all_teams, axis=0)\n",
    "    all_seasons.append(all_teams)\n",
    "all_stats = pd.concat(all_seasons)"
   ]
  },
  {
   "cell_type": "markdown",
   "metadata": {},
   "source": [
    "## Clean column name"
   ]
  },
  {
   "cell_type": "code",
   "execution_count": 85,
   "metadata": {},
   "outputs": [],
   "source": [
    "all_stats = all_stats.rename(columns = lambda x: re.sub(r'(Unnamed: \\d_\\w+_\\d\\s)|(\\sUnnamed: \\d_\\w+_\\d)|(\\sUnnamed: \\d_\\w+_\\d\\s)', '', x))"
   ]
  },
  {
   "cell_type": "code",
   "execution_count": 86,
   "metadata": {},
   "outputs": [],
   "source": [
    "all_stats = all_stats.loc[:,~all_stats.columns.duplicated()]"
   ]
  },
  {
   "cell_type": "markdown",
   "metadata": {},
   "source": [
    "# Merge on off stats"
   ]
  },
  {
   "cell_type": "code",
   "execution_count": 87,
   "metadata": {},
   "outputs": [],
   "source": [
    "with open('onoff_stats.pickle', 'rb') as handle:\n",
    "    onoff_stats = pickle.load(handle)"
   ]
  },
  {
   "cell_type": "code",
   "execution_count": 88,
   "metadata": {},
   "outputs": [],
   "source": [
    "all_seasons = []\n",
    "for season_stats in onoff_stats:\n",
    "    all_teams = []\n",
    "    for team_stats in season_stats:\n",
    "        team = pd.concat(team_stats, axis=1)\n",
    "        all_teams.append(team)\n",
    "    all_teams = pd.concat(all_teams, axis=0)\n",
    "    all_seasons.append(all_teams)\n",
    "all_stats_on_off = pd.concat(all_seasons)"
   ]
  },
  {
   "cell_type": "markdown",
   "metadata": {},
   "source": [
    "## Clean column name"
   ]
  },
  {
   "cell_type": "code",
   "execution_count": 89,
   "metadata": {},
   "outputs": [],
   "source": [
    "all_stats_on_off = all_stats_on_off.rename(columns = lambda x: re.sub(r'(Unnamed: \\d_\\w+_\\d\\s)|(\\sUnnamed: \\d_\\w+_\\d)|(\\sUnnamed: \\d_\\w+_\\d\\s)', '', x))"
   ]
  },
  {
   "cell_type": "code",
   "execution_count": 90,
   "metadata": {},
   "outputs": [],
   "source": [
    "all_stats_on_off.drop([x for x in list(all_stats_on_off.columns) if re.search(r'Unnamed', x)], axis=1, inplace=True)"
   ]
  },
  {
   "cell_type": "code",
   "execution_count": 91,
   "metadata": {},
   "outputs": [],
   "source": [
    "all_stats_on_off = all_stats_on_off.loc[:,~all_stats_on_off.columns.duplicated()]"
   ]
  },
  {
   "cell_type": "code",
   "execution_count": 92,
   "metadata": {},
   "outputs": [
    {
     "data": {
      "text/plain": [
       "(9638, 103)"
      ]
     },
     "execution_count": 92,
     "metadata": {},
     "output_type": "execute_result"
    }
   ],
   "source": [
    "all_stats_on_off.shape"
   ]
  },
  {
   "cell_type": "markdown",
   "metadata": {},
   "source": [
    "# Filter free agents"
   ]
  },
  {
   "cell_type": "code",
   "execution_count": 93,
   "metadata": {},
   "outputs": [],
   "source": [
    "with open('free_agents.pickle', 'rb') as handle:\n",
    "    free_agents = pickle.load(handle)"
   ]
  },
  {
   "cell_type": "code",
   "execution_count": 94,
   "metadata": {},
   "outputs": [],
   "source": [
    "all_stats = all_stats.drop_duplicates(['Player', 'season'])"
   ]
  },
  {
   "cell_type": "code",
   "execution_count": 95,
   "metadata": {},
   "outputs": [],
   "source": [
    "all_stats_on_off = all_stats_on_off.drop_duplicates(['Player', 'season'])"
   ]
  },
  {
   "cell_type": "markdown",
   "metadata": {},
   "source": [
    "## Fix name encoding before merge"
   ]
  },
  {
   "cell_type": "code",
   "execution_count": 96,
   "metadata": {},
   "outputs": [],
   "source": [
    "def fix_encoding(string):\n",
    "    return unicodedata.normalize('NFKD', string).encode(\"ascii\",\"ignore\").decode()"
   ]
  },
  {
   "cell_type": "code",
   "execution_count": 97,
   "metadata": {},
   "outputs": [],
   "source": [
    "free_agents['Player'] = free_agents['Player'].apply(fix_encoding)"
   ]
  },
  {
   "cell_type": "markdown",
   "metadata": {},
   "source": [
    "## Fixing dot in first name before merge"
   ]
  },
  {
   "cell_type": "code",
   "execution_count": 98,
   "metadata": {},
   "outputs": [],
   "source": [
    "def fix_dot(string):\n",
    "    if string.count('.') > 1:\n",
    "        clean = \"\".join(re.findall(r'[\\w]+', string))\n",
    "        return clean[:2] + \" \" + clean[2:]\n",
    "    else:\n",
    "        return string"
   ]
  },
  {
   "cell_type": "code",
   "execution_count": 99,
   "metadata": {},
   "outputs": [],
   "source": [
    "free_agents['Player'] = free_agents['Player'].apply(fix_dot)"
   ]
  },
  {
   "cell_type": "code",
   "execution_count": 100,
   "metadata": {},
   "outputs": [],
   "source": [
    "free_agents_stats = free_agents.merge(all_stats, how='left',\n",
    "            left_on=['Player', 'previous season'],\n",
    "            right_on=['Player', 'season']).merge(all_stats_on_off, how='left',\n",
    "                                                left_on=['Player', 'previous season'],\n",
    "                                                right_on=['Player', 'season'])"
   ]
  },
  {
   "cell_type": "code",
   "execution_count": 101,
   "metadata": {},
   "outputs": [
    {
     "name": "stdout",
     "output_type": "stream",
     "text": [
      "<class 'pandas.core.frame.DataFrame'>\n",
      "Int64Index: 4321 entries, 0 to 4320\n",
      "Columns: 188 entries, Player to Opponent Shot Frequency AllThree #\n",
      "dtypes: float64(113), object(75)\n",
      "memory usage: 6.2+ MB\n"
     ]
    }
   ],
   "source": [
    "free_agents_stats.info('memory_usage'=='deep')"
   ]
  },
  {
   "cell_type": "markdown",
   "metadata": {},
   "source": [
    "# Data Cleaning"
   ]
  },
  {
   "cell_type": "code",
   "execution_count": 102,
   "metadata": {},
   "outputs": [],
   "source": [
    "import seaborn as sns"
   ]
  },
  {
   "cell_type": "code",
   "execution_count": 103,
   "metadata": {},
   "outputs": [],
   "source": [
    "columns = free_agents_stats.columns"
   ]
  },
  {
   "cell_type": "code",
   "execution_count": 104,
   "metadata": {},
   "outputs": [
    {
     "data": {
      "text/plain": [
       "4321"
      ]
     },
     "execution_count": 104,
     "metadata": {},
     "output_type": "execute_result"
    }
   ],
   "source": [
    "free_agents_stats.shape[0]"
   ]
  },
  {
   "cell_type": "code",
   "execution_count": 105,
   "metadata": {},
   "outputs": [],
   "source": [
    "columns_to_drop = []\n",
    "for c in columns:\n",
    "    if free_agents_stats[c].isnull().sum() == free_agents_stats.shape[0]:\n",
    "        columns_to_drop.append(c)"
   ]
  },
  {
   "cell_type": "code",
   "execution_count": 106,
   "metadata": {},
   "outputs": [],
   "source": [
    "free_agents_stats.drop(columns=columns_to_drop, inplace=True)"
   ]
  },
  {
   "cell_type": "code",
   "execution_count": 107,
   "metadata": {},
   "outputs": [],
   "source": [
    "free_agents_stats.drop([c for c in free_agents_stats if c[-1] == '%'], axis=1, inplace=True)\n",
    "\n",
    "free_agents_stats.drop(columns=['MIN_y', 'id_y', 'season_y'], inplace=True)\n",
    "\n",
    "free_agents_stats.rename({'MIN_x': 'MIN', 'id_x': 'id', 'season_x': 'season',\n",
    "                          'eFG% %_x': 'Player eFG% %', 'eFG% #_x': 'Player eFG% #',\n",
    "                          'eFG% %_y': 'Team eFG% %', 'eFG% #_y': 'Team eFG% #'}, axis=1, inplace=True)"
   ]
  },
  {
   "cell_type": "code",
   "execution_count": 108,
   "metadata": {},
   "outputs": [
    {
     "data": {
      "text/plain": [
       "<AxesSubplot:>"
      ]
     },
     "execution_count": 108,
     "metadata": {},
     "output_type": "execute_result"
    },
    {
     "data": {
      "image/png": "[encoded data removed]",
      "text/plain": [
       "<Figure size 432x288 with 1 Axes>"
      ]
     },
     "metadata": {
      "needs_background": "light"
     },
     "output_type": "display_data"
    }
   ],
   "source": [
    "sns.distplot(a=free_agents_stats.apply(pd.Series.isnull, axis=0).apply(pd.Series.sum, axis=1).values)"
   ]
  },
  {
   "cell_type": "code",
   "execution_count": 109,
   "metadata": {},
   "outputs": [],
   "source": [
    "free_agents_stats = free_agents_stats.loc[~free_agents_stats.apply(pd.Series.isnull, axis=0).apply(pd.Series.sum, axis=1).apply(lambda x: x >= free_agents_stats.shape[1]/3), :]"
   ]
  },
  {
   "cell_type": "code",
   "execution_count": 110,
   "metadata": {},
   "outputs": [
    {
     "name": "stderr",
     "output_type": "stream",
     "text": [
      "<ipython-input-110-67b8095275f4>:1: FutureWarning: Dropping of nuisance columns in DataFrame reductions (with 'numeric_only=None') is deprecated; in a future version this will raise TypeError.  Select only valid columns before calling the reduction.\n",
      "  free_agents_stats = free_agents_stats.fillna(free_agents_stats.mean())\n"
     ]
    }
   ],
   "source": [
    "free_agents_stats = free_agents_stats.fillna(free_agents_stats.mean())"
   ]
  },
  {
   "cell_type": "code",
   "execution_count": 111,
   "metadata": {},
   "outputs": [],
   "source": [
    "free_agents_stats.fillna(0, inplace=True)"
   ]
  },
  {
   "cell_type": "markdown",
   "metadata": {},
   "source": [
    "# Merge salary"
   ]
  },
  {
   "cell_type": "code",
   "execution_count": 112,
   "metadata": {},
   "outputs": [],
   "source": [
    "free_agents_stats['Next season'] = free_agents_stats['season'].apply(lambda x: str(int(x[:4])+1) + \"-\" + str(int(x[:4])+2)[2:])"
   ]
  },
  {
   "cell_type": "code",
   "execution_count": 113,
   "metadata": {},
   "outputs": [],
   "source": [
    "with open(\"player_salaries.pickle\", 'rb') as handle:\n",
    "    player_salaries = pickle.load(handle)"
   ]
  },
  {
   "cell_type": "code",
   "execution_count": 114,
   "metadata": {},
   "outputs": [],
   "source": [
    "player_salaries = pd.concat(player_salaries, axis=0)"
   ]
  },
  {
   "cell_type": "code",
   "execution_count": 115,
   "metadata": {},
   "outputs": [],
   "source": [
    "stats_salaries = free_agents_stats.merge(player_salaries, how='left',\n",
    "                        left_on=['Player', 'Next season'], right_on=['Player', 'season'])"
   ]
  },
  {
   "cell_type": "code",
   "execution_count": 116,
   "metadata": {},
   "outputs": [],
   "source": [
    "stats_salaries = stats_salaries.loc[~stats_salaries['Salary'].isnull()]"
   ]
  },
  {
   "cell_type": "code",
   "execution_count": 117,
   "metadata": {},
   "outputs": [],
   "source": [
    "stats_salaries.drop(columns=['season_x', 'season_y'], inplace=True)"
   ]
  },
  {
   "cell_type": "markdown",
   "metadata": {},
   "source": [
    "# Merge salary cap"
   ]
  },
  {
   "cell_type": "code",
   "execution_count": 118,
   "metadata": {},
   "outputs": [],
   "source": [
    "salary_caps = pd.read_excel('salary_caps.xlsx')"
   ]
  },
  {
   "cell_type": "code",
   "execution_count": 119,
   "metadata": {},
   "outputs": [],
   "source": [
    "salary_caps = salary_caps[['season', 'salary_cap']]"
   ]
  },
  {
   "cell_type": "code",
   "execution_count": 120,
   "metadata": {},
   "outputs": [],
   "source": [
    "stats_salaries_cap = stats_salaries.merge(salary_caps,\n",
    "                                         how='left', left_on='Next season', right_on='season')"
   ]
  },
  {
   "cell_type": "code",
   "execution_count": 121,
   "metadata": {},
   "outputs": [],
   "source": [
    "stats_salaries_cap.drop(columns=['season'], inplace=True)"
   ]
  },
  {
   "cell_type": "code",
   "execution_count": 122,
   "metadata": {},
   "outputs": [
    {
     "data": {
      "text/plain": [
       "0"
      ]
     },
     "execution_count": 122,
     "metadata": {},
     "output_type": "execute_result"
    }
   ],
   "source": [
    "stats_salaries_cap['Salary'].isnull().sum()"
   ]
  },
  {
   "cell_type": "code",
   "execution_count": 123,
   "metadata": {},
   "outputs": [],
   "source": [
    "stats_salaries_cap['cap_usage'] = stats_salaries_cap['Salary'] / stats_salaries_cap['salary_cap']"
   ]
  },
  {
   "cell_type": "markdown",
   "metadata": {},
   "source": [
    "# Percentage into float"
   ]
  },
  {
   "cell_type": "code",
   "execution_count": 124,
   "metadata": {},
   "outputs": [],
   "source": [
    "def p2f(x):\n",
    "    if 0:\n",
    "        return float(0)\n",
    "    return float(x.strip('%'))/100"
   ]
  },
  {
   "cell_type": "code",
   "execution_count": 125,
   "metadata": {},
   "outputs": [],
   "source": [
    "for c in stats_salaries_cap.columns:\n",
    "    if '#' in c:\n",
    "        stats_salaries_cap[c] = stats_salaries_cap[c].apply(lambda x: float(str(x).strip('%'))/100)"
   ]
  },
  {
   "cell_type": "code",
   "execution_count": 126,
   "metadata": {},
   "outputs": [],
   "source": [
    "stats_salaries_cap.drop(columns=['MIN'], inplace=True)"
   ]
  },
  {
   "cell_type": "markdown",
   "metadata": {},
   "source": [
    "# Merge with BBR basic and advanced stats"
   ]
  },
  {
   "cell_type": "code",
   "execution_count": 61,
   "metadata": {},
   "outputs": [],
   "source": [
    "bbr_advanced = pd.read_excel(\"bbr_advanced.xlsx\")"
   ]
  },
  {
   "cell_type": "code",
   "execution_count": 62,
   "metadata": {},
   "outputs": [],
   "source": [
    "bbr_advanced['name'] = bbr_advanced['name'].apply(lambda x: re.sub(r\"\\\\.+\", \"\", x))"
   ]
  },
  {
   "cell_type": "code",
   "execution_count": 64,
   "metadata": {},
   "outputs": [],
   "source": [
    "bbr_advanced.drop(columns=['positions', 'age', 'team', 'games_played', 'minutes_played', 'is_combined_totals', 'slug'], inplace=True)"
   ]
  },
  {
   "cell_type": "code",
   "execution_count": 66,
   "metadata": {},
   "outputs": [],
   "source": [
    "bbr_advanced = bbr_advanced.loc[~bbr_advanced.duplicated(['name', 'Year'])]"
   ]
  },
  {
   "cell_type": "code",
   "execution_count": 68,
   "metadata": {},
   "outputs": [],
   "source": [
    "bbr_advanced['name'] = bbr_advanced['name'].apply(fix_encoding).apply(fix_dot)"
   ]
  },
  {
   "cell_type": "code",
   "execution_count": 127,
   "metadata": {
    "scrolled": true
   },
   "outputs": [],
   "source": [
    "stats_salaries_cap = stats_salaries_cap.merge(bbr_advanced, how='left',\n",
    "                         left_on=['Player', 'previous season'],\n",
    "                         right_on=['name', 'Year'])"
   ]
  },
  {
   "cell_type": "markdown",
   "metadata": {},
   "source": [
    "# Merge Raptor Data from 538"
   ]
  },
  {
   "cell_type": "code",
   "execution_count": 128,
   "metadata": {},
   "outputs": [],
   "source": [
    "historical = pd.read_csv('historical_RAPTOR_by_player.csv')"
   ]
  },
  {
   "cell_type": "code",
   "execution_count": 129,
   "metadata": {},
   "outputs": [],
   "source": [
    "modern = pd.read_csv('modern_RAPTOR_by_player.csv')"
   ]
  },
  {
   "cell_type": "code",
   "execution_count": 130,
   "metadata": {},
   "outputs": [
    {
     "data": {
      "text/plain": [
       "Index(['player_name', 'player_id', 'season', 'poss', 'mp', 'raptor_offense',\n",
       "       'raptor_defense', 'raptor_total', 'war_total', 'war_reg_season',\n",
       "       'war_playoffs', 'predator_offense', 'predator_defense',\n",
       "       'predator_total', 'pace_impact'],\n",
       "      dtype='object')"
      ]
     },
     "execution_count": 130,
     "metadata": {},
     "output_type": "execute_result"
    }
   ],
   "source": [
    "historical.columns"
   ]
  },
  {
   "cell_type": "code",
   "execution_count": 131,
   "metadata": {},
   "outputs": [],
   "source": [
    "historical['season'] = historical['season'].apply(lambda x: str(x-1) + \"-\" + str(x)[2:])"
   ]
  },
  {
   "cell_type": "code",
   "execution_count": 132,
   "metadata": {},
   "outputs": [],
   "source": [
    "stats_salaries_cap = stats_salaries_cap.merge(historical, how='left', left_on=['Player', 'previous season'], right_on=['player_name', 'season'])"
   ]
  },
  {
   "cell_type": "code",
   "execution_count": 133,
   "metadata": {},
   "outputs": [],
   "source": [
    "stats_salaries_cap = stats_salaries_cap.loc[~stats_salaries_cap['player_name'].isnull()]"
   ]
  },
  {
   "cell_type": "code",
   "execution_count": 135,
   "metadata": {},
   "outputs": [],
   "source": [
    "stats_salaries_cap.drop(columns=['player_id', 'player_name', 'mp', 'Year', 'season'], inplace=True)"
   ]
  },
  {
   "cell_type": "code",
   "execution_count": 136,
   "metadata": {},
   "outputs": [],
   "source": [
    "for c in stats_salaries_cap.columns:\n",
    "    if stats_salaries_cap[c].isnull().sum() != 0:\n",
    "        print(c)"
   ]
  },
  {
   "cell_type": "code",
   "execution_count": null,
   "metadata": {},
   "outputs": [],
   "source": [
    "list(stats_salaries_cap.columns"
   ]
  },
  {
   "cell_type": "code",
   "execution_count": 139,
   "metadata": {},
   "outputs": [],
   "source": [
    "with open('stats_salaries_cap.pickle', 'wb') as handle:\n",
    "    pickle.dump(stats_salaries_cap, handle)"
   ]
  }
 ],
 "metadata": {
  "kernelspec": {
   "display_name": "Python 3.8.2 64-bit ('DataScience': conda)",
   "language": "python",
   "name": "python38264bitdatascienceconda6647aa692cd647ca976aaa01095ed2f6"
  },
  "language_info": {
   "codemirror_mode": {
    "name": "ipython",
    "version": 3
   },
   "file_extension": ".py",
   "mimetype": "text/x-python",
   "name": "python",
   "nbconvert_exporter": "python",
   "pygments_lexer": "ipython3",
   "version": "3.8.5"
  }
 },
 "nbformat": 4,
 "nbformat_minor": 4
}

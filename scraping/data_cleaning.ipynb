{
 "cells": [
  {
   "cell_type": "code",
   "execution_count": 85,
   "metadata": {},
   "outputs": [],
   "source": [
    "import numpy as np\n",
    "import pickle\n",
    "import pandas as pd\n",
    "import re"
   ]
  },
  {
   "cell_type": "code",
   "execution_count": 57,
   "metadata": {},
   "outputs": [],
   "source": [
    "pd.set_option('display.max_rows', 50)\n",
    "pd.set_option('display.max_columns', 100)"
   ]
  },
  {
   "cell_type": "markdown",
   "metadata": {},
   "source": [
    "# Merge player stats"
   ]
  },
  {
   "cell_type": "code",
   "execution_count": 72,
   "metadata": {},
   "outputs": [],
   "source": [
    "with open('player_stats.pickle', 'rb') as handle:\n",
    "    player_stats = pickle.load(handle)"
   ]
  },
  {
   "cell_type": "code",
   "execution_count": 74,
   "metadata": {},
   "outputs": [],
   "source": [
    "all_seasons = []\n",
    "for season_stats in player_stats:\n",
    "    all_teams = []\n",
    "    for team_stats in season_stats:\n",
    "        team = pd.concat(team_stats, axis=1)\n",
    "        team = team.loc[:,~team.columns.duplicated()]\n",
    "        all_teams.append(team)\n",
    "    all_teams = pd.concat(all_teams, axis=0)\n",
    "    all_seasons.append(all_teams)\n",
    "all_stats = pd.concat(all_seasons)"
   ]
  },
  {
   "cell_type": "code",
   "execution_count": 139,
   "metadata": {},
   "outputs": [
    {
     "data": {
      "text/plain": [
       "(9506, 94)"
      ]
     },
     "execution_count": 139,
     "metadata": {},
     "output_type": "execute_result"
    }
   ],
   "source": [
    "all_stats.shape"
   ]
  },
  {
   "cell_type": "markdown",
   "metadata": {},
   "source": [
    "## Clean column name"
   ]
  },
  {
   "cell_type": "code",
   "execution_count": 118,
   "metadata": {},
   "outputs": [],
   "source": [
    "all_stats = all_stats.rename(columns = lambda x: re.sub(r'(Unnamed: \\d_\\w+_\\d\\s)|(\\sUnnamed: \\d_\\w+_\\d)|(\\sUnnamed: \\d_\\w+_\\d\\s)', '', x))"
   ]
  },
  {
   "cell_type": "markdown",
   "metadata": {},
   "source": [
    "# Merge on off stats"
   ]
  },
  {
   "cell_type": "code",
   "execution_count": 127,
   "metadata": {},
   "outputs": [],
   "source": [
    "with open('onoff_stats.pickle', 'rb') as handle:\n",
    "    onoff_stats = pickle.load(handle)"
   ]
  },
  {
   "cell_type": "code",
   "execution_count": 128,
   "metadata": {},
   "outputs": [],
   "source": [
    "all_seasons = []\n",
    "for season_stats in onoff_stats:\n",
    "    all_teams = []\n",
    "    for team_stats in season_stats:\n",
    "        team = pd.concat(team_stats, axis=1)\n",
    "        team = team.loc[:,~team.columns.duplicated()]\n",
    "        all_teams.append(team)\n",
    "    all_teams = pd.concat(all_teams, axis=0)\n",
    "    all_seasons.append(all_teams)\n",
    "all_stats_on_off = pd.concat(all_seasons)"
   ]
  },
  {
   "cell_type": "code",
   "execution_count": 82,
   "metadata": {},
   "outputs": [
    {
     "data": {
      "text/plain": [
       "(9638, 107)"
      ]
     },
     "execution_count": 82,
     "metadata": {},
     "output_type": "execute_result"
    }
   ],
   "source": [
    "all_stats_on_off.shape"
   ]
  },
  {
   "cell_type": "markdown",
   "metadata": {},
   "source": [
    "## Clean column name"
   ]
  },
  {
   "cell_type": "code",
   "execution_count": 133,
   "metadata": {},
   "outputs": [],
   "source": [
    "all_stats_on_off = all_stats_on_off.rename(columns = lambda x: re.sub(r'(Unnamed: \\d_\\w+_\\d\\s)|(\\sUnnamed: \\d_\\w+_\\d)|(\\sUnnamed: \\d_\\w+_\\d\\s)', '', x))"
   ]
  },
  {
   "cell_type": "code",
   "execution_count": 135,
   "metadata": {},
   "outputs": [],
   "source": [
    "all_stats_on_off.drop([x for x in list(all_stats_on_off.columns) if re.search(r'Unnamed', x)], axis=1, inplace=True)"
   ]
  }
 ],
 "metadata": {
  "kernelspec": {
   "display_name": "Python 3.8.2 64-bit ('DataScience': conda)",
   "language": "python",
   "name": "python38264bitdatascienceconda6647aa692cd647ca976aaa01095ed2f6"
  },
  "language_info": {
   "codemirror_mode": {
    "name": "ipython",
    "version": 3
   },
   "file_extension": ".py",
   "mimetype": "text/x-python",
   "name": "python",
   "nbconvert_exporter": "python",
   "pygments_lexer": "ipython3",
   "version": "3.8.5"
  }
 },
 "nbformat": 4,
 "nbformat_minor": 4
}

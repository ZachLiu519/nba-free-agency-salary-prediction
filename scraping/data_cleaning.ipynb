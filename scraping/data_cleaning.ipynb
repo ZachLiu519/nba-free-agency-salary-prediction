{
 "cells": [
  {
   "cell_type": "code",
   "execution_count": 1,
   "metadata": {},
   "outputs": [],
   "source": [
    "import numpy as np\n",
    "import pickle\n",
    "import pandas as pd\n",
    "import re\n",
    "import unicodedata"
   ]
  },
  {
   "cell_type": "code",
   "execution_count": 2,
   "metadata": {},
   "outputs": [],
   "source": [
    "pd.set_option('display.max_rows', 100)\n",
    "pd.set_option('display.max_columns', 100)"
   ]
  },
  {
   "cell_type": "markdown",
   "metadata": {},
   "source": [
    "# Merge player stats"
   ]
  },
  {
   "cell_type": "code",
   "execution_count": 3,
   "metadata": {},
   "outputs": [],
   "source": [
    "with open('player_stats.pickle', 'rb') as handle:\n",
    "    player_stats = pickle.load(handle)"
   ]
  },
  {
   "cell_type": "code",
   "execution_count": 4,
   "metadata": {},
   "outputs": [],
   "source": [
    "all_seasons = []\n",
    "for season_stats in player_stats:\n",
    "    all_teams = []\n",
    "    for team_stats in season_stats:\n",
    "        team = pd.concat(team_stats, axis=1)\n",
    "        all_teams.append(team)\n",
    "    all_teams = pd.concat(all_teams, axis=0)\n",
    "    all_seasons.append(all_teams)\n",
    "all_stats = pd.concat(all_seasons)"
   ]
  },
  {
   "cell_type": "markdown",
   "metadata": {},
   "source": [
    "## Clean column name"
   ]
  },
  {
   "cell_type": "code",
   "execution_count": 5,
   "metadata": {},
   "outputs": [],
   "source": [
    "all_stats = all_stats.rename(columns = lambda x: re.sub(r'(Unnamed: \\d_\\w+_\\d\\s)|(\\sUnnamed: \\d_\\w+_\\d)|(\\sUnnamed: \\d_\\w+_\\d\\s)', '', x))"
   ]
  },
  {
   "cell_type": "code",
   "execution_count": 6,
   "metadata": {},
   "outputs": [],
   "source": [
    "all_stats = all_stats.loc[:,~all_stats.columns.duplicated()]"
   ]
  },
  {
   "cell_type": "markdown",
   "metadata": {},
   "source": [
    "# Merge on off stats"
   ]
  },
  {
   "cell_type": "code",
   "execution_count": 7,
   "metadata": {},
   "outputs": [],
   "source": [
    "with open('onoff_stats.pickle', 'rb') as handle:\n",
    "    onoff_stats = pickle.load(handle)"
   ]
  },
  {
   "cell_type": "code",
   "execution_count": 8,
   "metadata": {},
   "outputs": [],
   "source": [
    "all_seasons = []\n",
    "for season_stats in onoff_stats:\n",
    "    all_teams = []\n",
    "    for team_stats in season_stats:\n",
    "        team = pd.concat(team_stats, axis=1)\n",
    "        all_teams.append(team)\n",
    "    all_teams = pd.concat(all_teams, axis=0)\n",
    "    all_seasons.append(all_teams)\n",
    "all_stats_on_off = pd.concat(all_seasons)"
   ]
  },
  {
   "cell_type": "markdown",
   "metadata": {},
   "source": [
    "## Clean column name"
   ]
  },
  {
   "cell_type": "code",
   "execution_count": 9,
   "metadata": {},
   "outputs": [],
   "source": [
    "all_stats_on_off = all_stats_on_off.rename(columns = lambda x: re.sub(r'(Unnamed: \\d_\\w+_\\d\\s)|(\\sUnnamed: \\d_\\w+_\\d)|(\\sUnnamed: \\d_\\w+_\\d\\s)', '', x))"
   ]
  },
  {
   "cell_type": "code",
   "execution_count": 10,
   "metadata": {},
   "outputs": [],
   "source": [
    "all_stats_on_off.drop([x for x in list(all_stats_on_off.columns) if re.search(r'Unnamed', x)], axis=1, inplace=True)"
   ]
  },
  {
   "cell_type": "code",
   "execution_count": 11,
   "metadata": {},
   "outputs": [],
   "source": [
    "all_stats_on_off = all_stats_on_off.loc[:,~all_stats_on_off.columns.duplicated()]"
   ]
  },
  {
   "cell_type": "code",
   "execution_count": 12,
   "metadata": {},
   "outputs": [
    {
     "data": {
      "text/plain": [
       "(9638, 103)"
      ]
     },
     "execution_count": 12,
     "metadata": {},
     "output_type": "execute_result"
    }
   ],
   "source": [
    "all_stats_on_off.shape"
   ]
  },
  {
   "cell_type": "markdown",
   "metadata": {},
   "source": [
    "# Filter free agents"
   ]
  },
  {
   "cell_type": "code",
   "execution_count": 13,
   "metadata": {},
   "outputs": [],
   "source": [
    "with open('free_agents.pickle', 'rb') as handle:\n",
    "    free_agents = pickle.load(handle)"
   ]
  },
  {
   "cell_type": "code",
   "execution_count": 14,
   "metadata": {},
   "outputs": [],
   "source": [
    "all_stats = all_stats.drop_duplicates(['Player', 'season'])"
   ]
  },
  {
   "cell_type": "code",
   "execution_count": 15,
   "metadata": {},
   "outputs": [],
   "source": [
    "all_stats_on_off = all_stats_on_off.drop_duplicates(['Player', 'season'])"
   ]
  },
  {
   "cell_type": "markdown",
   "metadata": {},
   "source": [
    "## Fix name asterisk"
   ]
  },
  {
   "cell_type": "code",
   "execution_count": 19,
   "metadata": {},
   "outputs": [],
   "source": [
    "def fix_asterisk(string):\n",
    "    return string.replace('*', '')"
   ]
  },
  {
   "cell_type": "code",
   "execution_count": 20,
   "metadata": {},
   "outputs": [],
   "source": [
    "free_agents['Player'] = free_agents['Player'].apply(fix_asterisk)"
   ]
  },
  {
   "cell_type": "markdown",
   "metadata": {},
   "source": [
    "## Fix name encoding before merge"
   ]
  },
  {
   "cell_type": "code",
   "execution_count": 21,
   "metadata": {},
   "outputs": [],
   "source": [
    "def fix_encoding(string):\n",
    "    return unicodedata.normalize('NFKD', string).encode(\"ascii\",\"ignore\").decode()"
   ]
  },
  {
   "cell_type": "code",
   "execution_count": 22,
   "metadata": {},
   "outputs": [],
   "source": [
    "free_agents['Player'] = free_agents['Player'].apply(fix_encoding)"
   ]
  },
  {
   "cell_type": "markdown",
   "metadata": {},
   "source": [
    "## Fixing dot in first name before merge"
   ]
  },
  {
   "cell_type": "code",
   "execution_count": 23,
   "metadata": {},
   "outputs": [],
   "source": [
    "def fix_dot(string):\n",
    "    if string.count('.') > 1:\n",
    "        clean = \"\".join(re.findall(r'[\\w]+', string))\n",
    "        return clean[:2] + \" \" + clean[2:]\n",
    "    else:\n",
    "        return string"
   ]
  },
  {
   "cell_type": "code",
   "execution_count": 24,
   "metadata": {},
   "outputs": [],
   "source": [
    "free_agents['Player'] = free_agents['Player'].apply(fix_dot)"
   ]
  },
  {
   "cell_type": "markdown",
   "metadata": {},
   "source": [
    "## Check name again"
   ]
  },
  {
   "cell_type": "code",
   "execution_count": 27,
   "metadata": {},
   "outputs": [
    {
     "data": {
      "text/html": [
       "<div>\n",
       "<style scoped>\n",
       "    .dataframe tbody tr th:only-of-type {\n",
       "        vertical-align: middle;\n",
       "    }\n",
       "\n",
       "    .dataframe tbody tr th {\n",
       "        vertical-align: top;\n",
       "    }\n",
       "\n",
       "    .dataframe thead th {\n",
       "        text-align: right;\n",
       "    }\n",
       "</style>\n",
       "<table border=\"1\" class=\"dataframe\">\n",
       "  <thead>\n",
       "    <tr style=\"text-align: right;\">\n",
       "      <th></th>\n",
       "      <th>Player</th>\n",
       "      <th>previous season</th>\n",
       "    </tr>\n",
       "  </thead>\n",
       "  <tbody>\n",
       "    <tr>\n",
       "      <th>0</th>\n",
       "      <td>Earl Watson</td>\n",
       "      <td>2004-05</td>\n",
       "    </tr>\n",
       "    <tr>\n",
       "      <th>1</th>\n",
       "      <td>Raja Bell</td>\n",
       "      <td>2004-05</td>\n",
       "    </tr>\n",
       "    <tr>\n",
       "      <th>2</th>\n",
       "      <td>Jose Calderon</td>\n",
       "      <td>2004-05</td>\n",
       "    </tr>\n",
       "    <tr>\n",
       "      <th>3</th>\n",
       "      <td>Samuel Dalembert</td>\n",
       "      <td>2004-05</td>\n",
       "    </tr>\n",
       "    <tr>\n",
       "      <th>4</th>\n",
       "      <td>Antonio Daniels</td>\n",
       "      <td>2004-05</td>\n",
       "    </tr>\n",
       "    <tr>\n",
       "      <th>...</th>\n",
       "      <td>...</td>\n",
       "      <td>...</td>\n",
       "    </tr>\n",
       "    <tr>\n",
       "      <th>298</th>\n",
       "      <td>Isaiah Thomas</td>\n",
       "      <td>2019-20</td>\n",
       "    </tr>\n",
       "    <tr>\n",
       "      <th>299</th>\n",
       "      <td>Lance Thomas</td>\n",
       "      <td>2019-20</td>\n",
       "    </tr>\n",
       "    <tr>\n",
       "      <th>300</th>\n",
       "      <td>Dion Waiters</td>\n",
       "      <td>2019-20</td>\n",
       "    </tr>\n",
       "    <tr>\n",
       "      <th>301</th>\n",
       "      <td>Greg Whittington</td>\n",
       "      <td>2019-20</td>\n",
       "    </tr>\n",
       "    <tr>\n",
       "      <th>302</th>\n",
       "      <td>Tyler Zeller</td>\n",
       "      <td>2019-20</td>\n",
       "    </tr>\n",
       "  </tbody>\n",
       "</table>\n",
       "<p>3300 rows × 2 columns</p>\n",
       "</div>"
      ],
      "text/plain": [
       "               Player previous season\n",
       "0         Earl Watson         2004-05\n",
       "1           Raja Bell         2004-05\n",
       "2       Jose Calderon         2004-05\n",
       "3    Samuel Dalembert         2004-05\n",
       "4     Antonio Daniels         2004-05\n",
       "..                ...             ...\n",
       "298     Isaiah Thomas         2019-20\n",
       "299      Lance Thomas         2019-20\n",
       "300      Dion Waiters         2019-20\n",
       "301  Greg Whittington         2019-20\n",
       "302      Tyler Zeller         2019-20\n",
       "\n",
       "[3300 rows x 2 columns]"
      ]
     },
     "execution_count": 27,
     "metadata": {},
     "output_type": "execute_result"
    }
   ],
   "source": [
    "free_agents.loc[free_agents['Player'].apply(lambda x: True if not re.search('[^\\x00-\\x7F]', x) else False)]"
   ]
  },
  {
   "cell_type": "markdown",
   "metadata": {},
   "source": [
    "## Merge"
   ]
  },
  {
   "cell_type": "code",
   "execution_count": 28,
   "metadata": {},
   "outputs": [],
   "source": [
    "free_agents_stats = free_agents.merge(all_stats, how='left',\n",
    "            left_on=['Player', 'previous season'],\n",
    "            right_on=['Player', 'season']).merge(all_stats_on_off, how='left',\n",
    "                                                left_on=['Player', 'previous season'],\n",
    "                                                right_on=['Player', 'season'])"
   ]
  },
  {
   "cell_type": "code",
   "execution_count": 29,
   "metadata": {},
   "outputs": [
    {
     "name": "stdout",
     "output_type": "stream",
     "text": [
      "<class 'pandas.core.frame.DataFrame'>\n",
      "Int64Index: 3300 entries, 0 to 3299\n",
      "Columns: 188 entries, Player to Opponent Shot Frequency AllThree #\n",
      "dtypes: float64(113), object(75)\n",
      "memory usage: 4.8+ MB\n"
     ]
    }
   ],
   "source": [
    "free_agents_stats.info('memory_usage'=='deep')"
   ]
  },
  {
   "cell_type": "markdown",
   "metadata": {},
   "source": [
    "# Data Cleaning"
   ]
  },
  {
   "cell_type": "code",
   "execution_count": 30,
   "metadata": {},
   "outputs": [],
   "source": [
    "import seaborn as sns"
   ]
  },
  {
   "cell_type": "code",
   "execution_count": 31,
   "metadata": {},
   "outputs": [],
   "source": [
    "columns = free_agents_stats.columns"
   ]
  },
  {
   "cell_type": "code",
   "execution_count": 32,
   "metadata": {},
   "outputs": [
    {
     "data": {
      "text/plain": [
       "3300"
      ]
     },
     "execution_count": 32,
     "metadata": {},
     "output_type": "execute_result"
    }
   ],
   "source": [
    "free_agents_stats.shape[0]"
   ]
  },
  {
   "cell_type": "code",
   "execution_count": 33,
   "metadata": {},
   "outputs": [],
   "source": [
    "columns_to_drop = []\n",
    "for c in columns:\n",
    "    if free_agents_stats[c].isnull().sum() == free_agents_stats.shape[0]:\n",
    "        columns_to_drop.append(c)"
   ]
  },
  {
   "cell_type": "code",
   "execution_count": 34,
   "metadata": {},
   "outputs": [],
   "source": [
    "free_agents_stats.drop(columns=columns_to_drop, inplace=True)"
   ]
  },
  {
   "cell_type": "code",
   "execution_count": 35,
   "metadata": {},
   "outputs": [],
   "source": [
    "free_agents_stats.drop([c for c in free_agents_stats if c[-1] == '%'], axis=1, inplace=True)\n",
    "\n",
    "free_agents_stats.drop(columns=['MIN_y', 'id_y', 'season_y'], inplace=True)\n",
    "\n",
    "free_agents_stats.rename({'MIN_x': 'MIN', 'id_x': 'id', 'season_x': 'season',\n",
    "                          'eFG% %_x': 'Player eFG% %', 'eFG% #_x': 'Player eFG% #',\n",
    "                          'eFG% %_y': 'Team eFG% %', 'eFG% #_y': 'Team eFG% #'}, axis=1, inplace=True)"
   ]
  },
  {
   "cell_type": "code",
   "execution_count": 36,
   "metadata": {},
   "outputs": [
    {
     "data": {
      "text/plain": [
       "<AxesSubplot:>"
      ]
     },
     "execution_count": 36,
     "metadata": {},
     "output_type": "execute_result"
    },
    {
     "data": {
      "image/png": "[encoded data removed]",
      "text/plain": [
       "<Figure size 432x288 with 1 Axes>"
      ]
     },
     "metadata": {
      "needs_background": "light"
     },
     "output_type": "display_data"
    }
   ],
   "source": [
    "sns.distplot(a=free_agents_stats.apply(pd.Series.isnull, axis=0).apply(pd.Series.sum, axis=1).values)"
   ]
  },
  {
   "cell_type": "code",
   "execution_count": 37,
   "metadata": {},
   "outputs": [],
   "source": [
    "free_agents_stats = free_agents_stats.loc[~free_agents_stats.apply(pd.Series.isnull, axis=0).apply(pd.Series.sum, axis=1).apply(lambda x: x >= free_agents_stats.shape[1]/3), :]"
   ]
  },
  {
   "cell_type": "code",
   "execution_count": 38,
   "metadata": {},
   "outputs": [
    {
     "name": "stderr",
     "output_type": "stream",
     "text": [
      "<ipython-input-38-67b8095275f4>:1: FutureWarning: Dropping of nuisance columns in DataFrame reductions (with 'numeric_only=None') is deprecated; in a future version this will raise TypeError.  Select only valid columns before calling the reduction.\n",
      "  free_agents_stats = free_agents_stats.fillna(free_agents_stats.mean())\n"
     ]
    }
   ],
   "source": [
    "free_agents_stats = free_agents_stats.fillna(free_agents_stats.mean())"
   ]
  },
  {
   "cell_type": "code",
   "execution_count": 39,
   "metadata": {},
   "outputs": [],
   "source": [
    "free_agents_stats.fillna(0, inplace=True)"
   ]
  },
  {
   "cell_type": "markdown",
   "metadata": {},
   "source": [
    "# Merge salary"
   ]
  },
  {
   "cell_type": "code",
   "execution_count": 41,
   "metadata": {},
   "outputs": [],
   "source": [
    "free_agents_stats['Next season'] = free_agents_stats['season'].apply(lambda x: str(int(x[:4])+1) + \"-\" + str(int(x[:4])+2)[2:])"
   ]
  },
  {
   "cell_type": "code",
   "execution_count": 42,
   "metadata": {},
   "outputs": [],
   "source": [
    "with open(\"player_salaries.pickle\", 'rb') as handle:\n",
    "    player_salaries = pickle.load(handle)"
   ]
  },
  {
   "cell_type": "code",
   "execution_count": 43,
   "metadata": {},
   "outputs": [],
   "source": [
    "player_salaries = pd.concat(player_salaries, axis=0)"
   ]
  },
  {
   "cell_type": "code",
   "execution_count": 44,
   "metadata": {},
   "outputs": [],
   "source": [
    "stats_salaries = free_agents_stats.merge(player_salaries, how='left',\n",
    "                        left_on=['Player', 'Next season'], right_on=['Player', 'season'])"
   ]
  },
  {
   "cell_type": "code",
   "execution_count": 45,
   "metadata": {},
   "outputs": [],
   "source": [
    "stats_salaries = stats_salaries.loc[~stats_salaries['Salary'].isnull()]"
   ]
  },
  {
   "cell_type": "code",
   "execution_count": 46,
   "metadata": {},
   "outputs": [],
   "source": [
    "stats_salaries.drop(columns=['season_x', 'season_y'], inplace=True)"
   ]
  },
  {
   "cell_type": "markdown",
   "metadata": {},
   "source": [
    "# Merge salary cap"
   ]
  },
  {
   "cell_type": "code",
   "execution_count": 47,
   "metadata": {},
   "outputs": [],
   "source": [
    "salary_caps = pd.read_excel('salary_caps.xlsx')"
   ]
  },
  {
   "cell_type": "code",
   "execution_count": 48,
   "metadata": {},
   "outputs": [],
   "source": [
    "salary_caps = salary_caps[['season', 'salary_cap']]"
   ]
  },
  {
   "cell_type": "code",
   "execution_count": 49,
   "metadata": {},
   "outputs": [],
   "source": [
    "stats_salaries_cap = stats_salaries.merge(salary_caps,\n",
    "                                         how='left', left_on='Next season', right_on='season')"
   ]
  },
  {
   "cell_type": "code",
   "execution_count": 50,
   "metadata": {},
   "outputs": [],
   "source": [
    "stats_salaries_cap.drop(columns=['season'], inplace=True)"
   ]
  },
  {
   "cell_type": "code",
   "execution_count": 51,
   "metadata": {},
   "outputs": [
    {
     "data": {
      "text/plain": [
       "0"
      ]
     },
     "execution_count": 51,
     "metadata": {},
     "output_type": "execute_result"
    }
   ],
   "source": [
    "stats_salaries_cap['Salary'].isnull().sum()"
   ]
  },
  {
   "cell_type": "code",
   "execution_count": 52,
   "metadata": {},
   "outputs": [],
   "source": [
    "stats_salaries_cap['cap_usage'] = stats_salaries_cap['Salary'] / stats_salaries_cap['salary_cap']"
   ]
  },
  {
   "cell_type": "markdown",
   "metadata": {},
   "source": [
    "# Percentage into float"
   ]
  },
  {
   "cell_type": "code",
   "execution_count": 53,
   "metadata": {},
   "outputs": [],
   "source": [
    "def p2f(x):\n",
    "    if 0:\n",
    "        return float(0)\n",
    "    return float(x.strip('%'))/100"
   ]
  },
  {
   "cell_type": "code",
   "execution_count": 54,
   "metadata": {},
   "outputs": [],
   "source": [
    "for c in stats_salaries_cap.columns:\n",
    "    if '#' in c:\n",
    "        stats_salaries_cap[c] = stats_salaries_cap[c].apply(lambda x: float(str(x).strip('%'))/100)"
   ]
  },
  {
   "cell_type": "code",
   "execution_count": 55,
   "metadata": {},
   "outputs": [],
   "source": [
    "stats_salaries_cap.drop(columns=['MIN'], inplace=True)"
   ]
  },
  {
   "cell_type": "markdown",
   "metadata": {},
   "source": [
    "# Merge with BBR basic and advanced stats"
   ]
  },
  {
   "cell_type": "code",
   "execution_count": 56,
   "metadata": {},
   "outputs": [],
   "source": [
    "bbr_advanced = pd.read_excel(\"bbr_advanced.xlsx\")"
   ]
  },
  {
   "cell_type": "code",
   "execution_count": 57,
   "metadata": {},
   "outputs": [],
   "source": [
    "bbr_advanced['name'] = bbr_advanced['name'].apply(lambda x: re.sub(r\"\\\\.+\", \"\", x))"
   ]
  },
  {
   "cell_type": "code",
   "execution_count": 58,
   "metadata": {},
   "outputs": [],
   "source": [
    "bbr_advanced.drop(columns=['positions', 'age', 'team', 'games_played', 'minutes_played', 'is_combined_totals', 'slug'], inplace=True)"
   ]
  },
  {
   "cell_type": "code",
   "execution_count": 59,
   "metadata": {},
   "outputs": [],
   "source": [
    "bbr_advanced = bbr_advanced.loc[~bbr_advanced.duplicated(['name', 'Year'])]"
   ]
  },
  {
   "cell_type": "code",
   "execution_count": 60,
   "metadata": {},
   "outputs": [],
   "source": [
    "bbr_advanced['name'] = bbr_advanced['name'].apply(fix_encoding).apply(fix_dot)"
   ]
  },
  {
   "cell_type": "code",
   "execution_count": 61,
   "metadata": {
    "scrolled": true
   },
   "outputs": [],
   "source": [
    "stats_salaries_cap = stats_salaries_cap.merge(bbr_advanced, how='left',\n",
    "                         left_on=['Player', 'previous season'],\n",
    "                         right_on=['name', 'Year'])"
   ]
  },
  {
   "cell_type": "markdown",
   "metadata": {},
   "source": [
    "# Merge Raptor Data from 538"
   ]
  },
  {
   "cell_type": "code",
   "execution_count": 62,
   "metadata": {},
   "outputs": [],
   "source": [
    "historical = pd.read_csv('historical_RAPTOR_by_player.csv')"
   ]
  },
  {
   "cell_type": "code",
   "execution_count": 63,
   "metadata": {},
   "outputs": [],
   "source": [
    "modern = pd.read_csv('modern_RAPTOR_by_player.csv')"
   ]
  },
  {
   "cell_type": "code",
   "execution_count": 64,
   "metadata": {},
   "outputs": [
    {
     "data": {
      "text/plain": [
       "Index(['player_name', 'player_id', 'season', 'poss', 'mp', 'raptor_offense',\n",
       "       'raptor_defense', 'raptor_total', 'war_total', 'war_reg_season',\n",
       "       'war_playoffs', 'predator_offense', 'predator_defense',\n",
       "       'predator_total', 'pace_impact'],\n",
       "      dtype='object')"
      ]
     },
     "execution_count": 64,
     "metadata": {},
     "output_type": "execute_result"
    }
   ],
   "source": [
    "historical.columns"
   ]
  },
  {
   "cell_type": "code",
   "execution_count": 65,
   "metadata": {},
   "outputs": [],
   "source": [
    "historical['season'] = historical['season'].apply(lambda x: str(x-1) + \"-\" + str(x)[2:])"
   ]
  },
  {
   "cell_type": "code",
   "execution_count": 66,
   "metadata": {},
   "outputs": [],
   "source": [
    "stats_salaries_cap = stats_salaries_cap.merge(historical, how='left', left_on=['Player', 'previous season'], right_on=['player_name', 'season'])"
   ]
  },
  {
   "cell_type": "code",
   "execution_count": 67,
   "metadata": {},
   "outputs": [],
   "source": [
    "stats_salaries_cap = stats_salaries_cap.loc[~stats_salaries_cap['player_name'].isnull()]"
   ]
  },
  {
   "cell_type": "code",
   "execution_count": 68,
   "metadata": {},
   "outputs": [],
   "source": [
    "stats_salaries_cap.drop(columns=['player_id', 'player_name', 'mp', 'Year', 'season', 'id', 'name'], inplace=True)"
   ]
  },
  {
   "cell_type": "code",
   "execution_count": 69,
   "metadata": {},
   "outputs": [],
   "source": [
    "for c in stats_salaries_cap.columns:\n",
    "    if stats_salaries_cap[c].isnull().sum() != 0:\n",
    "        print(c)"
   ]
  },
  {
   "cell_type": "markdown",
   "metadata": {},
   "source": [
    "# Incorporate salary categories"
   ]
  },
  {
   "cell_type": "code",
   "execution_count": 70,
   "metadata": {},
   "outputs": [],
   "source": [
    "with open('salary_categories_dict.pickle', 'rb') as handle:\n",
    "    salary_categories_dict = pickle.load(handle)"
   ]
  },
  {
   "cell_type": "code",
   "execution_count": 72,
   "metadata": {},
   "outputs": [],
   "source": [
    "def assign_category(row):\n",
    "    season_dict = salary_categories_dict[row['Next season']]\n",
    "    print(row['Salary'])\n",
    "    print(season_dict)\n",
    "    sorted_season_dict = dict(sorted(season_dict.items(), key=lambda item: abs(item[0] - row['Salary'])))\n",
    "    print(sorted_season_dict)\n",
    "    return list(sorted_season_dict.values())[0]"
   ]
  },
  {
   "cell_type": "code",
   "execution_count": 61,
   "metadata": {},
   "outputs": [],
   "source": [
    "with open('stats_salaries_cap.pickle', 'wb') as handle:\n",
    "    pickle.dump(stats_salaries_cap, handle)"
   ]
  }
 ],
 "metadata": {
  "kernelspec": {
   "display_name": "Python 3.8.2 64-bit ('DataScience': conda)",
   "language": "python",
   "name": "python38264bitdatascienceconda6647aa692cd647ca976aaa01095ed2f6"
  },
  "language_info": {
   "codemirror_mode": {
    "name": "ipython",
    "version": 3
   },
   "file_extension": ".py",
   "mimetype": "text/x-python",
   "name": "python",
   "nbconvert_exporter": "python",
   "pygments_lexer": "ipython3",
   "version": "3.8.5"
  }
 },
 "nbformat": 4,
 "nbformat_minor": 4
}

{
 "cells": [
  {
   "cell_type": "code",
   "execution_count": 67,
   "metadata": {},
   "outputs": [],
   "source": [
    "import requests\n",
    "from requests.adapters import HTTPAdapter\n",
    "from requests.packages.urllib3.util.retry import Retry\n",
    "from bs4 import BeautifulSoup\n",
    "import pandas as pd\n",
    "from multiprocessing import Pool\n",
    "import re\n",
    "import pickle"
   ]
  },
  {
   "cell_type": "code",
   "execution_count": 55,
   "metadata": {},
   "outputs": [],
   "source": [
    "def scrape_fa(year):\n",
    "    session = requests.Session()\n",
    "    retry = Retry(connect=3, backoff_factor=0.5)\n",
    "    adapter = HTTPAdapter(max_retries=retry)\n",
    "    session.mount('http://', adapter)\n",
    "    session.mount('https://', adapter)\n",
    "    \n",
    "    my_headers = {\n",
    "        'authority': 'en.wikipedia.org',\n",
    "        'cache-control': 'max-age=0',\n",
    "        'sec-ch-ua': '\" Not A;Brand\";v=\"99\", \"Chromium\";v=\"96\", \"Microsoft Edge\";v=\"96\"',\n",
    "        'sec-ch-ua-mobile': '?0',\n",
    "        'sec-ch-ua-platform': '\"Windows\"',\n",
    "        'upgrade-insecure-requests': '1',\n",
    "        'user-agent': 'Mozilla/5.0 (Windows NT 10.0; Win64; x64) AppleWebKit/537.36 (KHTML, like Gecko) Chrome/96.0.4664.55 Safari/537.36 Edg/96.0.1054.43',\n",
    "        'accept': 'text/html,application/xhtml+xml,application/xml;q=0.9,image/webp,image/apng,*/*;q=0.8,application/signed-exchange;v=b3;q=0.9',\n",
    "        'sec-fetch-site': 'same-origin',\n",
    "        'sec-fetch-mode': 'navigate',\n",
    "        'sec-fetch-user': '?1',\n",
    "        'sec-fetch-dest': 'document',\n",
    "        'accept-language': 'en,zh-CN;q=0.9,zh;q=0.8,en-US;q=0.7',\n",
    "        'cookie': 'WMF-Last-Access=09-Dec-2021; WMF-Last-Access-Global=09-Dec-2021; GeoIP=US:::37.75:-97.82:v4; enwikimwuser-sessionId=c57e79277dd10e90044c; enwikiel-sessionId=361cd58612199630ad70; enwikiwmE-sessionTickLastTickTime=1639063998485; enwikiwmE-sessionTickTickCount=10',\n",
    "    }\n",
    "    \n",
    "    url = 'https://en.wikipedia.org/wiki/List_of_{0}%E2%80%93{1}_NBA_season_transactions'.format(year, str(year+1)[2:])\n",
    "\n",
    "    response = session.get(url, headers=my_headers)\n",
    "    print(response)\n",
    "    soup = BeautifulSoup(response.text)\n",
    "    \n",
    "    if year == 2006:\n",
    "        for t in soup.find_all('table', {'class': 'wikitable sortable'}):\n",
    "            ths = str(t.find_all('th'))\n",
    "            if ('Date signed' in ths) and ('New team' in ths) and ('Former team' in ths):\n",
    "                player_htmls = soup.find_all('table', {'class': 'wikitable sortable'})[0].find_all('tr')[1:]\n",
    "    elif year == 2010:\n",
    "        t = soup.find_all('table', {'class': 'wikitable'})[5]\n",
    "        player_htmls = t.find_all('td', {'align': 'left'})\n",
    "    elif year == 2009:\n",
    "        t = soup.find_all('table', {'class': 'wikitable'})[5]\n",
    "        player_htmls = t.find_all('tr')[3:]\n",
    "    else:\n",
    "        for t in soup.find_all('table', {'class': 'wikitable sortable'}):\n",
    "            ths = str(t.find_all('th'))\n",
    "            if ('Date signed' in ths) and ('New team' in ths) and ('Former team' in ths):\n",
    "                player_htmls = t.find_all('td', {'align': 'left'})\n",
    "    try:\n",
    "        players = [str(player_html.find('a').text) for player_html in player_htmls if player_html.find('a')]\n",
    "        df = pd.DataFrame({'Player': players})\n",
    "        df['previous season'] = str(year-1) + \"-\" + str(year)[2:]\n",
    "    except UnboundLocalError as err:\n",
    "        print(url)\n",
    "        return None\n",
    "\n",
    "    return df"
   ]
  },
  {
   "cell_type": "code",
   "execution_count": 60,
   "metadata": {},
   "outputs": [
    {
     "name": "stdout",
     "output_type": "stream",
     "text": [
      "<Response [200]>\n",
      "<Response [200]>\n",
      "<Response [200]>\n",
      "<Response [200]>\n",
      "<Response [200]>\n",
      "<Response [200]>\n",
      "<Response [200]>\n",
      "<Response [200]>\n",
      "<Response [200]>\n",
      "<Response [200]>\n",
      "<Response [200]>\n",
      "<Response [200]>\n",
      "<Response [200]><Response [200]>\n",
      "\n",
      "<Response [200]>\n",
      "<Response [200]>\n"
     ]
    }
   ],
   "source": [
    "with Pool(12) as p:\n",
    "    free_agents = p.map(scrape_fa, list(range(2005, 2021)))"
   ]
  },
  {
   "cell_type": "code",
   "execution_count": 61,
   "metadata": {},
   "outputs": [],
   "source": [
    "free_agents = pd.concat(free_agents, axis=0)"
   ]
  },
  {
   "cell_type": "code",
   "execution_count": 69,
   "metadata": {},
   "outputs": [],
   "source": [
    "with open('free_agents.pickle', 'wb') as handle:\n",
    "    pickle.dump(free_agents, handle, protocol=pickle.HIGHEST_PROTOCOL)"
   ]
  }
 ],
 "metadata": {
  "kernelspec": {
   "display_name": "Python 3.8.2 64-bit ('DataScience': conda)",
   "language": "python",
   "name": "python38264bitdatascienceconda6647aa692cd647ca976aaa01095ed2f6"
  },
  "language_info": {
   "codemirror_mode": {
    "name": "ipython",
    "version": 3
   },
   "file_extension": ".py",
   "mimetype": "text/x-python",
   "name": "python",
   "nbconvert_exporter": "python",
   "pygments_lexer": "ipython3",
   "version": "3.8.5"
  }
 },
 "nbformat": 4,
 "nbformat_minor": 4
}

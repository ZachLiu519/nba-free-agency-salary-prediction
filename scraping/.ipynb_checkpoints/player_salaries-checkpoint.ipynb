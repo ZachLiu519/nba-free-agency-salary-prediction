{
 "cells": [
  {
   "cell_type": "code",
   "execution_count": 1,
   "metadata": {},
   "outputs": [],
   "source": [
    "from bs4 import BeautifulSoup\n",
    "import requests\n",
    "from requests.adapters import HTTPAdapter\n",
    "from requests.packages.urllib3.util.retry import Retry"
   ]
  },
  {
   "cell_type": "code",
   "execution_count": 2,
   "metadata": {},
   "outputs": [],
   "source": [
    "import pandas as pd\n",
    "import re\n",
    "from multiprocessing import Pool\n",
    "import pickle\n",
    "import time"
   ]
  },
  {
   "cell_type": "markdown",
   "metadata": {},
   "source": [
    "## Define elements for scraping"
   ]
  },
  {
   "cell_type": "code",
   "execution_count": 3,
   "metadata": {},
   "outputs": [],
   "source": [
    "my_headers = {\n",
    "    'authority': 'hoopshype.com',\n",
    "    'cache-control': 'max-age=0',\n",
    "    'sec-ch-ua': '\" Not A;Brand\";v=\"99\", \"Chromium\";v=\"96\", \"Microsoft Edge\";v=\"96\"',\n",
    "    'sec-ch-ua-mobile': '?0',\n",
    "    'sec-ch-ua-platform': '\"Windows\"',\n",
    "    'upgrade-insecure-requests': '1',\n",
    "    'user-agent': 'Mozilla/5.0 (Windows NT 10.0; Win64; x64) AppleWebKit/537.36 (KHTML, like Gecko) Chrome/96.0.4664.55 Safari/537.36 Edg/96.0.1054.43',\n",
    "    'accept': 'text/html,application/xhtml+xml,application/xml;q=0.9,image/webp,image/apng,*/*;q=0.8,application/signed-exchange;v=b3;q=0.9',\n",
    "    'sec-fetch-site': 'same-origin',\n",
    "    'sec-fetch-mode': 'navigate',\n",
    "    'sec-fetch-user': '?1',\n",
    "    'sec-fetch-dest': 'document',\n",
    "    'referer': 'https://hoopshype.com/salaries/players/',\n",
    "    'accept-language': 'en,zh-CN;q=0.9,zh;q=0.8,en-US;q=0.7',\n",
    "    'cookie': '_pbjs_userid_consent_data=3524755945110770; _parsely_session={%22sid%22:1%2C%22surl%22:%22https://hoopshype.com/salaries/players/%22%2C%22sref%22:%22https://www.google.com/%22%2C%22sts%22:1639131138007%2C%22slts%22:0}; _li_dcdm_c=.hoopshype.com; _lc2_fpi=9535463a6e35--01fphx8hzr378j7c9ebpq52jgg; _ga=GA1.2.116104933.1639131138; _gid=GA1.2.745670715.1639131138; fpestid=HWnrBQuj5RJpQ6dnR1D6lCBF3UmNbfJG_8EueQwBZ4n6YVCMCjhywPhQ1AdiuNX7eOKeNQ; _parsely_visitor={%22id%22:%22pid=c14385ad7f82e36d6c16ca0487901f88%22%2C%22session_count%22:1%2C%22last_session_ts%22:1639131138007}; _lr_geo_location=HK; _lr_sampling_rate=100; __gads=ID=78779e5599d9752e:T=1639131140:S=ALNI_Ma2HOXvxtbyueXDXbS0WoW81bBoJg; _lr_retry_request=true; _lr_env_src_ats=false; ADRIZER_SOURCE={%22value%22:%22%22%2C%22expires%22:%222021-12-12T10:12:29.268Z%22}; ADRIZER_WIDGET={%22value%22:%22%22%2C%22expires%22:%222021-12-12T10:12:29.268Z%22}; _awl=2.1639131157.0.4-afa57b18-4930cb1818b675608b8c16d9e20e2a8d-6763652d617369612d6561737431-61b32815-0; _admrla=2.0-4930cb18-18b6-7560-8b8c-16d9e20e2a8d',\n",
    "}\n",
    "\n",
    "seasons = [season for season in range(2005, 2021)]"
   ]
  },
  {
   "cell_type": "code",
   "execution_count": 47,
   "metadata": {},
   "outputs": [],
   "source": [
    "def all_player_salaries(season):\n",
    "    session = requests.Session()\n",
    "    retry = Retry(connect=3, backoff_factor=0.5)\n",
    "    adapter = HTTPAdapter(max_retries=retry)\n",
    "    session.mount('http://', adapter)\n",
    "    session.mount('https://', adapter)\n",
    "    \n",
    "    if season in [2007, 2008, 2009, 2011, 2012]:\n",
    "        url = 'http://webcache.googleusercontent.com/search?q=cache:https://hoopshype.com/salaries/players/{0}-{1}/'.format(season, season+1)\n",
    "    else:\n",
    "        url = 'https://hoopshype.com/salaries/players/{0}-{1}/'.format(season, season+1)\n",
    "    response = session.get(url, headers=my_headers)\n",
    "    response_status = re.search(r'\\d+', str(response))[0]\n",
    "    if response_status != '200': # handle fail case from response\n",
    "        print(response_status)\n",
    "        return None\n",
    "\n",
    "    # parse\n",
    "    html_soup = BeautifulSoup(response.text, 'html.parser')\n",
    "    players = [player_html.find('a').text[9:][:-7] for player_html in html_soup.find_all('td', {'class': 'name'})[1:]]\n",
    "    salaries = [int(player.find_all('td')[2].attrs['data-value']) for player in html_soup.find_all('tr')[1:]]\n",
    "\n",
    "    table = pd.DataFrame({'Player': players, 'Salary': salaries})\n",
    "    table['season'] = str(season) + \"-\" + str(season+1)[2:]\n",
    "    \n",
    "    return table"
   ]
  },
  {
   "cell_type": "code",
   "execution_count": 48,
   "metadata": {},
   "outputs": [],
   "source": [
    "with Pool(12) as p:\n",
    "    player_salary = p.map(all_player_salaries, seasons)"
   ]
  },
  {
   "cell_type": "code",
   "execution_count": 50,
   "metadata": {},
   "outputs": [],
   "source": [
    "with open('player_salaries.pickle', 'wb') as handle:\n",
    "    pickle.dump(player_salary, handle, protocol=pickle.HIGHEST_PROTOCOL)"
   ]
  },
  {
   "cell_type": "code",
   "execution_count": 49,
   "metadata": {},
   "outputs": [],
   "source": [
    "for i in range(0, 16):\n",
    "    if player_salary[i].size == 0:\n",
    "        print(i)"
   ]
  }
 ],
 "metadata": {
  "kernelspec": {
   "display_name": "Python 3.8.2 64-bit ('DataScience': conda)",
   "language": "python",
   "name": "python38264bitdatascienceconda6647aa692cd647ca976aaa01095ed2f6"
  },
  "language_info": {
   "codemirror_mode": {
    "name": "ipython",
    "version": 3
   },
   "file_extension": ".py",
   "mimetype": "text/x-python",
   "name": "python",
   "nbconvert_exporter": "python",
   "pygments_lexer": "ipython3",
   "version": "3.8.5"
  }
 },
 "nbformat": 4,
 "nbformat_minor": 4
}

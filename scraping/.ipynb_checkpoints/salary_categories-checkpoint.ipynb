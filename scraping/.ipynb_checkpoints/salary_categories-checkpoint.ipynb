{
 "cells": [
  {
   "cell_type": "code",
   "execution_count": 1,
   "id": "8b01e8c5",
   "metadata": {},
   "outputs": [],
   "source": [
    "import requests\n",
    "from requests.adapters import HTTPAdapter\n",
    "from requests.packages.urllib3.util.retry import Retry\n",
    "from bs4 import BeautifulSoup\n",
    "import pandas as pd\n",
    "from multiprocessing import Pool\n",
    "import re\n",
    "import pickle"
   ]
  },
  {
   "cell_type": "code",
   "execution_count": 2,
   "id": "7773f0e1",
   "metadata": {},
   "outputs": [],
   "source": [
    "session = requests.Session()\n",
    "retry = Retry(connect=3, backoff_factor=0.5)\n",
    "adapter = HTTPAdapter(max_retries=retry)\n",
    "session.mount('http://', adapter)\n",
    "session.mount('https://', adapter)\n",
    "\n",
    "my_headers = {\n",
    "    'authority': 'basketball.realgm.com',\n",
    "    'cache-control': 'max-age=0',\n",
    "    'sec-ch-ua': '\" Not A;Brand\";v=\"99\", \"Chromium\";v=\"96\", \"Microsoft Edge\";v=\"96\"',\n",
    "    'sec-ch-ua-mobile': '?0',\n",
    "    'sec-ch-ua-platform': '\"Windows\"',\n",
    "    'upgrade-insecure-requests': '1',\n",
    "    'user-agent': 'Mozilla/5.0 (Windows NT 10.0; Win64; x64) AppleWebKit/537.36 (KHTML, like Gecko) Chrome/96.0.4664.55 Safari/537.36 Edg/96.0.1054.43',\n",
    "    'accept': 'text/html,application/xhtml+xml,application/xml;q=0.9,image/webp,image/apng,*/*;q=0.8,application/signed-exchange;v=b3;q=0.9',\n",
    "    'sec-fetch-site': 'cross-site',\n",
    "    'sec-fetch-mode': 'navigate',\n",
    "    'sec-fetch-user': '?1',\n",
    "    'sec-fetch-dest': 'document',\n",
    "    'referer': 'https://www.google.com/',\n",
    "    'accept-language': 'en,zh-CN;q=0.9,zh;q=0.8,en-US;q=0.7',\n",
    "}"
   ]
  },
  {
   "cell_type": "code",
   "execution_count": 3,
   "id": "6d97ff5e",
   "metadata": {},
   "outputs": [
    {
     "name": "stdout",
     "output_type": "stream",
     "text": [
      "<Response [200]>\n"
     ]
    }
   ],
   "source": [
    "url = 'https://basketball.realgm.com/nba/info/salary_cap'\n",
    "\n",
    "response = session.get(url, headers=my_headers)\n",
    "print(response)\n",
    "soup = BeautifulSoup(response.text)"
   ]
  },
  {
   "cell_type": "markdown",
   "id": "fa1afe9e",
   "metadata": {},
   "source": [
    "# BAE, MLEs and MAXs"
   ]
  },
  {
   "cell_type": "code",
   "execution_count": 153,
   "id": "f20828a9",
   "metadata": {},
   "outputs": [],
   "source": [
    "max_all = pd.DataFrame(\n",
    "            pd.read_html(\n",
    "                str(soup.find_all('table')[13])\n",
    "                        )[0].iloc[13:30].values)[[0, 1, 2, 3]].rename(\n",
    "                                                {0: 'season', 1: '0-6 YOS', 2: '7-9 YOS', 3: '10+ YOS'}, axis=1)"
   ]
  },
  {
   "cell_type": "code",
   "execution_count": 162,
   "id": "14a47e4a",
   "metadata": {},
   "outputs": [],
   "source": [
    "mle_all = pd.DataFrame(\n",
    "            pd.read_html(\n",
    "                str(soup.find_all('table')[12])\n",
    "                        )[0].iloc[13:30].values)[[0, 4, 5, 6]].rename(\n",
    "                                                {0: 'season', 4: 'MLE', 5: 'Tax MLE', 6: 'Room MLE'}, axis=1).ffill(axis ='columns')"
   ]
  },
  {
   "cell_type": "code",
   "execution_count": 163,
   "id": "b6d05d02",
   "metadata": {},
   "outputs": [],
   "source": [
    "bae = pd.DataFrame(\n",
    "            pd.read_html(\n",
    "                str(soup.find_all('table')[12])\n",
    "                        )[0].iloc[13:30].values)[[0, 3]].rename({0: 'season', 3: 'BAE'}, axis=1)"
   ]
  },
  {
   "cell_type": "markdown",
   "id": "f3e41968",
   "metadata": {},
   "source": [
    "# Minimum salary under different CBAs"
   ]
  },
  {
   "cell_type": "code",
   "execution_count": 53,
   "id": "f0a70a94",
   "metadata": {},
   "outputs": [],
   "source": [
    "url_2005_cba = 'https://basketball.realgm.com/nba/info/minimum_scale/2005'\n",
    "url_2011_cba = 'https://basketball.realgm.com/nba/info/minimum_scale/2011'\n",
    "url_2017_cba = 'https://basketball.realgm.com/nba/info/minimum_scale/2017'"
   ]
  },
  {
   "cell_type": "code",
   "execution_count": 57,
   "id": "b0f038f1",
   "metadata": {},
   "outputs": [
    {
     "name": "stdout",
     "output_type": "stream",
     "text": [
      "<Response [200]>\n"
     ]
    }
   ],
   "source": [
    "response_2005 = session.get(url_2005_cba, headers=my_headers)\n",
    "print(response_2005)\n",
    "soup_2005 = BeautifulSoup(response_2005.text)"
   ]
  },
  {
   "cell_type": "code",
   "execution_count": 65,
   "id": "6be87626",
   "metadata": {},
   "outputs": [],
   "source": [
    "min_2005 = pd.read_html(str(soup_2005.find_all('table')[12]))[0]"
   ]
  },
  {
   "cell_type": "code",
   "execution_count": 66,
   "id": "71487208",
   "metadata": {},
   "outputs": [
    {
     "name": "stdout",
     "output_type": "stream",
     "text": [
      "<Response [200]>\n"
     ]
    }
   ],
   "source": [
    "response_2011 = session.get(url_2011_cba, headers=my_headers)\n",
    "print(response_2011)\n",
    "soup_2011 = BeautifulSoup(response_2011.text)"
   ]
  },
  {
   "cell_type": "code",
   "execution_count": 67,
   "id": "d190d1e5",
   "metadata": {},
   "outputs": [],
   "source": [
    "min_2011 = pd.read_html(str(soup_2011.find_all('table')[12]))[0]"
   ]
  },
  {
   "cell_type": "code",
   "execution_count": 71,
   "id": "a69889fb",
   "metadata": {},
   "outputs": [],
   "source": [
    "min_2011.drop(['2017-2018', '2018-2019', '2019-2020', '2020-2021'], axis=1, inplace=True)"
   ]
  },
  {
   "cell_type": "code",
   "execution_count": 72,
   "id": "d5e7b0e1",
   "metadata": {},
   "outputs": [
    {
     "name": "stdout",
     "output_type": "stream",
     "text": [
      "<Response [200]>\n"
     ]
    }
   ],
   "source": [
    "response_2017 = session.get(url_2017_cba, headers=my_headers)\n",
    "print(response_2017)\n",
    "soup_2017 = BeautifulSoup(response_2017.text)"
   ]
  },
  {
   "cell_type": "code",
   "execution_count": 105,
   "id": "89fed587",
   "metadata": {},
   "outputs": [],
   "source": [
    "min_2017 = pd.read_html(str(soup_2017.find_all('table')[12]))[0]"
   ]
  },
  {
   "cell_type": "code",
   "execution_count": 106,
   "id": "761ffd91",
   "metadata": {},
   "outputs": [],
   "source": [
    "min_2017.rename({'Year 1': '2017-18', 'Year 2': '2018-19',\n",
    "                 'Year 3': '2019-20', 'Year 4': '2020-21',\n",
    "                 'Year 5': '2021-22'}, axis=1, inplace=True)"
   ]
  },
  {
   "cell_type": "code",
   "execution_count": 107,
   "id": "5f90d3ae",
   "metadata": {},
   "outputs": [],
   "source": [
    "min_2017.loc[0] = min_2017.loc[0].fillna('$815,615')"
   ]
  },
  {
   "cell_type": "code",
   "execution_count": 108,
   "id": "53d595e8",
   "metadata": {},
   "outputs": [],
   "source": [
    "min_2017.loc[1] = min_2017.loc[1].fillna('$1,378,242')"
   ]
  },
  {
   "cell_type": "code",
   "execution_count": 109,
   "id": "e8dff53c",
   "metadata": {},
   "outputs": [],
   "source": [
    "min_2017.loc[2] = min_2017.loc[2].fillna('$1,618,520')"
   ]
  },
  {
   "cell_type": "code",
   "execution_count": 110,
   "id": "14350200",
   "metadata": {},
   "outputs": [],
   "source": [
    "min_2017.loc[3] = min_2017.loc[3].fillna('$1,752,950')"
   ]
  },
  {
   "cell_type": "code",
   "execution_count": 111,
   "id": "e9634803",
   "metadata": {},
   "outputs": [],
   "source": [
    "min_2017['YOS'] = min_2005['YOS']"
   ]
  },
  {
   "cell_type": "code",
   "execution_count": 112,
   "id": "fbb947c5",
   "metadata": {},
   "outputs": [],
   "source": [
    "min_all = min_2005.merge(min_2011, how='left',\n",
    "                         left_on = 'YOS', right_on = 'YOS').merge(min_2017, how='left',\n",
    "                                                                  left_on = 'YOS', right_on = 'YOS')"
   ]
  },
  {
   "cell_type": "code",
   "execution_count": 174,
   "id": "98e70a13",
   "metadata": {},
   "outputs": [
    {
     "name": "stderr",
     "output_type": "stream",
     "text": [
      "<ipython-input-174-b085fbef51af>:1: FutureWarning: The default value of regex will change from True to False in a future version.\n",
      "  min_all.columns = min_all.columns.str.replace(r'(-20)', \"-\")\n"
     ]
    }
   ],
   "source": [
    "min_all.columns = min_all.columns.str.replace(r'(-20)', \"-\")"
   ]
  },
  {
   "cell_type": "code",
   "execution_count": 176,
   "id": "d907e8a0",
   "metadata": {},
   "outputs": [],
   "source": [
    "min_all.rename({'2019-': '2019-20'}, axis=1, inplace=True)"
   ]
  },
  {
   "cell_type": "code",
   "execution_count": 190,
   "id": "9bcd3516",
   "metadata": {},
   "outputs": [],
   "source": [
    "min_all = min_all.T.reset_index().iloc[1:].rename({'index': 'season'}, axis=1)"
   ]
  },
  {
   "cell_type": "markdown",
   "id": "b38874b5",
   "metadata": {},
   "source": [
    "# Rename rows and columns for final merge"
   ]
  },
  {
   "cell_type": "code",
   "execution_count": 194,
   "id": "38aceb88",
   "metadata": {},
   "outputs": [],
   "source": [
    "max_all.columns = max_all.columns.str.replace('YOS', 'MAX')"
   ]
  },
  {
   "cell_type": "code",
   "execution_count": 220,
   "id": "4f0b0761",
   "metadata": {},
   "outputs": [],
   "source": [
    "max_all['season'] = max_all['season'].apply(lambda x: x[:5] + x[-2:])"
   ]
  },
  {
   "cell_type": "code",
   "execution_count": 222,
   "id": "61483554",
   "metadata": {},
   "outputs": [],
   "source": [
    "mle_all['season'] = mle_all['season'].apply(lambda x: x[:5] + x[-2:])\n",
    "bae['season'] = bae['season'].apply(lambda x: x[:5] + x[-2:])"
   ]
  },
  {
   "cell_type": "code",
   "execution_count": 202,
   "id": "01c77b83",
   "metadata": {},
   "outputs": [],
   "source": [
    "min_all = min_all.add_suffix(' MIN').rename({'season MIN': 'season'}, axis=1)"
   ]
  },
  {
   "cell_type": "code",
   "execution_count": 211,
   "id": "aa5174a1",
   "metadata": {},
   "outputs": [],
   "source": [
    "min_all = min_all[::-1].reset_index(drop=True)"
   ]
  },
  {
   "cell_type": "code",
   "execution_count": 223,
   "id": "8b542fa5",
   "metadata": {},
   "outputs": [],
   "source": [
    "salary_categories = max_all.merge(min_all, how='left',\n",
    "                                  on='season').merge(mle_all, how='left',\n",
    "                                                    on='season').merge(bae, how='left',\n",
    "                                                                      on = 'season')"
   ]
  },
  {
   "cell_type": "code",
   "execution_count": null,
   "id": "9bb21582",
   "metadata": {},
   "outputs": [],
   "source": []
  },
  {
   "cell_type": "code",
   "execution_count": 230,
   "id": "831abc76",
   "metadata": {},
   "outputs": [
    {
     "data": {
      "text/plain": [
       "{0: {'season': '2021-22',\n",
       "  '0-6 MAX': '$28,103,500',\n",
       "  '7-9 MAX': '$33,724,200',\n",
       "  '10+ MAX': '$39,344,900',\n",
       "  '0 MIN': '$815,615',\n",
       "  '1 MIN': '$1,378,242',\n",
       "  '2 MIN': '$1,618,520',\n",
       "  '3 MIN': '$1,752,950',\n",
       "  '4 MIN': '$1,892,678',\n",
       "  '5 MIN': '$2,051,446',\n",
       "  '6 MIN': '$2,210,217',\n",
       "  '7 MIN': '$2,368,991',\n",
       "  '8 MIN': '$2,527,766',\n",
       "  '9 MIN': '$2,540,347',\n",
       "  '10 MIN': '$2,794,384',\n",
       "  'MLE': '$9,536,000',\n",
       "  'Tax MLE': '$5,890,000',\n",
       "  'Room MLE': '$4,910,000',\n",
       "  'BAE': '$3,732,000'},\n",
       " 1: {'season': '2020-21',\n",
       "  '0-6 MAX': '$27,285,000',\n",
       "  '7-9 MAX': '$32,742,000',\n",
       "  '10+ MAX': '$38,199,000',\n",
       "  '0 MIN': '$815,615',\n",
       "  '1 MIN': '$1,378,242',\n",
       "  '2 MIN': '$1,618,520',\n",
       "  '3 MIN': '$1,752,950',\n",
       "  '4 MIN': '$1,813,816',\n",
       "  '5 MIN': '$1,965,969',\n",
       "  '6 MIN': '$2,118,125',\n",
       "  '7 MIN': '$2,270,283',\n",
       "  '8 MIN': '$2,422,442',\n",
       "  '9 MIN': '$2,434,499',\n",
       "  '10 MIN': '$2,677,951',\n",
       "  'MLE': '$9,258,000',\n",
       "  'Tax MLE': '$5,718,000',\n",
       "  'Room MLE': '$4,767,000',\n",
       "  'BAE': '$3,623,000'},\n",
       " 2: {'season': '2019-20',\n",
       "  '0-6 MAX': '$27,285,000',\n",
       "  '7-9 MAX': '$32,742,000',\n",
       "  '10+ MAX': '$38,199,000',\n",
       "  '0 MIN': '$815,615',\n",
       "  '1 MIN': '$1,378,242',\n",
       "  '2 MIN': '$1,618,520',\n",
       "  '3 MIN': '$1,676,735',\n",
       "  '4 MIN': '$1,734,954',\n",
       "  '5 MIN': '$1,880,492',\n",
       "  '6 MIN': '$2,026,033',\n",
       "  '7 MIN': '$2,171,575',\n",
       "  '8 MIN': '$2,317,118',\n",
       "  '9 MIN': '$2,328,651',\n",
       "  '10 MIN': '$2,561,518',\n",
       "  'MLE': '$9,258,000',\n",
       "  'Tax MLE': '$5,718,000',\n",
       "  'Room MLE': '$4,767,000',\n",
       "  'BAE': '$3,623,000'},\n",
       " 3: {'season': '2018-19',\n",
       "  '0-6 MAX': '$25,467,250',\n",
       "  '7-9 MAX': '$30,560,700',\n",
       "  '10+ MAX': '$35,654,150',\n",
       "  '0 MIN': '$815,615',\n",
       "  '1 MIN': '$1,378,242',\n",
       "  '2 MIN': '$1,544,951',\n",
       "  '3 MIN': '$1,600,520',\n",
       "  '4 MIN': '$1,656,092',\n",
       "  '5 MIN': '$1,795,015',\n",
       "  '6 MIN': '$1,933,941',\n",
       "  '7 MIN': '$2,072,867',\n",
       "  '8 MIN': '$2,211,794',\n",
       "  '9 MIN': '$2,222,803',\n",
       "  '10 MIN': '$2,445,085',\n",
       "  'MLE': '$8,641,000',\n",
       "  'Tax MLE': '$5,337,000',\n",
       "  'Room MLE': '$4,449,000',\n",
       "  'BAE': '$3,382,000'},\n",
       " 4: {'season': '2017-18',\n",
       "  '0-6 MAX': '$24,773,250',\n",
       "  '7-9 MAX': '$29,727,900',\n",
       "  '10+ MAX': '$34,682,550',\n",
       "  '0 MIN': '$815,615',\n",
       "  '1 MIN': '$1,312,611',\n",
       "  '2 MIN': '$1,471,382',\n",
       "  '3 MIN': '$1,524,305',\n",
       "  '4 MIN': '$1,577,230',\n",
       "  '5 MIN': '$1,709,538',\n",
       "  '6 MIN': '$1,841,849',\n",
       "  '7 MIN': '$1,974,159',\n",
       "  '8 MIN': '$2,106,470',\n",
       "  '9 MIN': '$2,116,955',\n",
       "  '10 MIN': '$2,328,652',\n",
       "  'MLE': '$8,406,000',\n",
       "  'Tax MLE': '$5,192,000',\n",
       "  'Room MLE': '$4,328,000',\n",
       "  'BAE': '$3,290,000'},\n",
       " 5: {'season': '2016-17',\n",
       "  '0-6 MAX': '$22,116,750',\n",
       "  '7-9 MAX': '$26,540,100',\n",
       "  '10+ MAX': '$30,963,450',\n",
       "  '0 MIN': '$543,471',\n",
       "  '1 MIN': '$874,636',\n",
       "  '2 MIN': '$980,431',\n",
       "  '3 MIN': '$1,015,696',\n",
       "  '4 MIN': '$1,050,961',\n",
       "  '5 MIN': '$1,139,123',\n",
       "  '6 MIN': '$1,227,286',\n",
       "  '7 MIN': '$1,315,448',\n",
       "  '8 MIN': '$1,403,611',\n",
       "  '9 MIN': '$1,410,598',\n",
       "  '10 MIN': '$1,551,659',\n",
       "  'MLE': '$5,628,000',\n",
       "  'Tax MLE': '$3,477,000',\n",
       "  'Room MLE': '$2,898,000',\n",
       "  'BAE': '$2,203,000'},\n",
       " 6: {'season': '2015-16',\n",
       "  '0-6 MAX': '$16,407,500',\n",
       "  '7-9 MAX': '$19,689,000',\n",
       "  '10+ MAX': '$22,970,500',\n",
       "  '0 MIN': '$525,093',\n",
       "  '1 MIN': '$845,059',\n",
       "  '2 MIN': '$947,276',\n",
       "  '3 MIN': '$981,348',\n",
       "  '4 MIN': '$1,015,421',\n",
       "  '5 MIN': '$1,100,602',\n",
       "  '6 MIN': '$1,185,784',\n",
       "  '7 MIN': '$1,270,964',\n",
       "  '8 MIN': '$1,356,146',\n",
       "  '9 MIN': '$1,362,897',\n",
       "  '10 MIN': '$1,499,187',\n",
       "  'MLE': '$5,464,000',\n",
       "  'Tax MLE': '$3,376,000',\n",
       "  'Room MLE': '$2,814,000',\n",
       "  'BAE': '$2,139,000'},\n",
       " 7: {'season': '2014-15',\n",
       "  '0-6 MAX': '$14,746,000',\n",
       "  '7-9 MAX': '$17,695,200',\n",
       "  '10+ MAX': '$20,644,400',\n",
       "  '0 MIN': '$507,336',\n",
       "  '1 MIN': '$816,482',\n",
       "  '2 MIN': '$915,243',\n",
       "  '3 MIN': '$948,163',\n",
       "  '4 MIN': '$981,084',\n",
       "  '5 MIN': '$1,063,384',\n",
       "  '6 MIN': '$1,145,685',\n",
       "  '7 MIN': '$1,227,985',\n",
       "  '8 MIN': '$1,310,286',\n",
       "  '9 MIN': '$1,316,809',\n",
       "  '10 MIN': '$1,448,490',\n",
       "  'MLE': '$5,305,000',\n",
       "  'Tax MLE': '$3,278,000',\n",
       "  'Room MLE': '$2,732,000',\n",
       "  'BAE': '$2,077,000'},\n",
       " 8: {'season': '2013-14',\n",
       "  '0-6 MAX': '$13,701,250',\n",
       "  '7-9 MAX': '$16,441,500',\n",
       "  '10+ MAX': '$19,181,750',\n",
       "  '0 MIN': '$490,180',\n",
       "  '1 MIN': '$788,872',\n",
       "  '2 MIN': '$884,293',\n",
       "  '3 MIN': '$916,099',\n",
       "  '4 MIN': '$947,907',\n",
       "  '5 MIN': '$1,027,424',\n",
       "  '6 MIN': '$1,106,942',\n",
       "  '7 MIN': '$1,186,459',\n",
       "  '8 MIN': '$1,265,977',\n",
       "  '9 MIN': '$1,272,279',\n",
       "  '10 MIN': '$1,399,507',\n",
       "  'MLE': '$5,150,000',\n",
       "  'Tax MLE': '$3,183,000',\n",
       "  'Room MLE': '$2,652,000',\n",
       "  'BAE': '$2,016,000'},\n",
       " 9: {'season': '2012-13',\n",
       "  '0-6 MAX': '$13,668,750',\n",
       "  '7-9 MAX': '$16,402,500',\n",
       "  '10+ MAX': '$19,136,250',\n",
       "  '0 MIN': '$473,604',\n",
       "  '1 MIN': '$762,195',\n",
       "  '2 MIN': '$854,389',\n",
       "  '3 MIN': '$885,120',\n",
       "  '4 MIN': '$915,852',\n",
       "  '5 MIN': '$992,680',\n",
       "  '6 MIN': '$1,069,509',\n",
       "  '7 MIN': '$1,146,337',\n",
       "  '8 MIN': '$1,223,166',\n",
       "  '9 MIN': '$1,229,255',\n",
       "  '10 MIN': '$1,352,181',\n",
       "  'MLE': '$5,000,000',\n",
       "  'Tax MLE': '$3,090,000',\n",
       "  'Room MLE': '$2,575,000',\n",
       "  'BAE': '$1,957,000'},\n",
       " 10: {'season': '2011-12',\n",
       "  '0-6 MAX': '$12,922,194',\n",
       "  '7-9 MAX': '$15,506,632',\n",
       "  '10+ MAX': '$18,091,071',\n",
       "  '0 MIN': '$473,604',\n",
       "  '1 MIN': '$762,195',\n",
       "  '2 MIN': '$854,389',\n",
       "  '3 MIN': '$885,120',\n",
       "  '4 MIN': '$915,852',\n",
       "  '5 MIN': '$992,680',\n",
       "  '6 MIN': '$1,069,509',\n",
       "  '7 MIN': '$1,146,337',\n",
       "  '8 MIN': '$1,223,166',\n",
       "  '9 MIN': '$1,229,255',\n",
       "  '10 MIN': '$1,352,181',\n",
       "  'MLE': '$5,000,000',\n",
       "  'Tax MLE': '$3,000,000',\n",
       "  'Room MLE': '$2,500,000',\n",
       "  'BAE': '$1,900,000'},\n",
       " 11: {'season': '2010-11',\n",
       "  '0-6 MAX': '$13,603,750',\n",
       "  '7-9 MAX': '$16,324,500',\n",
       "  '10+ MAX': '$19,045,250',\n",
       "  '0 MIN': '$473,604',\n",
       "  '1 MIN': '$762,195',\n",
       "  '2 MIN': '$854,389',\n",
       "  '3 MIN': '$885,120',\n",
       "  '4 MIN': '$915,852',\n",
       "  '5 MIN': '$992,680',\n",
       "  '6 MIN': '$1,069,509',\n",
       "  '7 MIN': '$1,146,337',\n",
       "  '8 MIN': '$1,223,166',\n",
       "  '9 MIN': '$1,229,255',\n",
       "  '10 MIN': '$1,352,181',\n",
       "  'MLE': '$5,765,000',\n",
       "  'Tax MLE': '$5,765,000',\n",
       "  'Room MLE': '$5,765,000',\n",
       "  'BAE': '$2,080,000'},\n",
       " 12: {'season': '2009-10',\n",
       "  '0-6 MAX': '$13,520,500',\n",
       "  '7-9 MAX': '$16,224,600',\n",
       "  '10+ MAX': '$18,928,700',\n",
       "  '0 MIN': '$457,588',\n",
       "  '1 MIN': '$736,420',\n",
       "  '2 MIN': '$825,497',\n",
       "  '3 MIN': '$855,189',\n",
       "  '4 MIN': '$884,881',\n",
       "  '5 MIN': '$959,111',\n",
       "  '6 MIN': '$1,033,342',\n",
       "  '7 MIN': '$1,107,572',\n",
       "  '8 MIN': '$1,181,803',\n",
       "  '9 MIN': '$1,187,686',\n",
       "  '10 MIN': '$1,306,455',\n",
       "  'MLE': '$5,854,000',\n",
       "  'Tax MLE': '$5,854,000',\n",
       "  'Room MLE': '$5,854,000',\n",
       "  'BAE': '$1,990,000'},\n",
       " 13: {'season': '2008-09',\n",
       "  '0-6 MAX': '$13,758,000',\n",
       "  '7-9 MAX': '$16,509,600',\n",
       "  '10+ MAX': '$19,261,200',\n",
       "  '0 MIN': '$442,114',\n",
       "  '1 MIN': '$711,517',\n",
       "  '2 MIN': '$797,581',\n",
       "  '3 MIN': '$826,269',\n",
       "  '4 MIN': '$854,957',\n",
       "  '5 MIN': '$926,678',\n",
       "  '6 MIN': '$998,398',\n",
       "  '7 MIN': '$1,070,118',\n",
       "  '8 MIN': '$1,141,838',\n",
       "  '9 MIN': '$1,147,523',\n",
       "  '10 MIN': '$1,262,275',\n",
       "  'MLE': '$5,585,000',\n",
       "  'Tax MLE': '$5,585,000',\n",
       "  'Room MLE': '$5,585,000',\n",
       "  'BAE': '$1,910,000'},\n",
       " 14: {'season': '2007-08',\n",
       "  '0-6 MAX': '$13,041,250',\n",
       "  '7-9 MAX': '$15,649,500',\n",
       "  '10+ MAX': '$18,257,750',\n",
       "  '0 MIN': '$427,163',\n",
       "  '1 MIN': '$687,456',\n",
       "  '2 MIN': '$770,610',\n",
       "  '3 MIN': '$798,328',\n",
       "  '4 MIN': '$826,046',\n",
       "  '5 MIN': '$895,341',\n",
       "  '6 MIN': '$964,636',\n",
       "  '7 MIN': '$1,033,930',\n",
       "  '8 MIN': '$1,103,225',\n",
       "  '9 MIN': '$1,108,718',\n",
       "  '10 MIN': '$1,219,590',\n",
       "  'MLE': '$5,356,000',\n",
       "  'Tax MLE': '$5,356,000',\n",
       "  'Room MLE': '$5,356,000',\n",
       "  'BAE': '$1,830,000'},\n",
       " 15: {'season': '2006-07',\n",
       "  '0-6 MAX': '$12,455,000',\n",
       "  '7-9 MAX': '$14,946,000',\n",
       "  '10+ MAX': '$17,437,000',\n",
       "  '0 MIN': '$412,718',\n",
       "  '1 MIN': '$664,209',\n",
       "  '2 MIN': '$744,551',\n",
       "  '3 MIN': '$771,331',\n",
       "  '4 MIN': '$798,112',\n",
       "  '5 MIN': '$865,063',\n",
       "  '6 MIN': '$932,015',\n",
       "  '7 MIN': '$998,967',\n",
       "  '8 MIN': '$1,065,918',\n",
       "  '9 MIN': '$1,071,225',\n",
       "  '10 MIN': '$1,178,348',\n",
       "  'MLE': '$5,215,000',\n",
       "  'Tax MLE': '$5,215,000',\n",
       "  'Room MLE': '$5,215,000',\n",
       "  'BAE': '$1,750,000'},\n",
       " 16: {'season': '2005-06',\n",
       "  '0-6 MAX': '$12,000,000',\n",
       "  '7-9 MAX': '$14,400,000',\n",
       "  '10+ MAX': '$16,800,000',\n",
       "  '0 MIN': '$398,762',\n",
       "  '1 MIN': '$641,748',\n",
       "  '2 MIN': '$719,373',\n",
       "  '3 MIN': '$745,248',\n",
       "  '4 MIN': '$771,123',\n",
       "  '5 MIN': '$835,810',\n",
       "  '6 MIN': '$900,498',\n",
       "  '7 MIN': '$965,185',\n",
       "  '8 MIN': '$1,029,873',\n",
       "  '9 MIN': '$1,035,000',\n",
       "  '10 MIN': '$1,138,500',\n",
       "  'MLE': '$5,000,000',\n",
       "  'Tax MLE': '$5,000,000',\n",
       "  'Room MLE': '$5,000,000',\n",
       "  'BAE': '$1,670,000'}}"
      ]
     },
     "execution_count": 230,
     "metadata": {},
     "output_type": "execute_result"
    }
   ],
   "source": [
    "salary_categories.to_dict('index')"
   ]
  }
 ],
 "metadata": {
  "kernelspec": {
   "display_name": "Python 3.8.2 64-bit ('DataScience': conda)",
   "language": "python",
   "name": "python38264bitdatascienceconda6647aa692cd647ca976aaa01095ed2f6"
  },
  "language_info": {
   "codemirror_mode": {
    "name": "ipython",
    "version": 3
   },
   "file_extension": ".py",
   "mimetype": "text/x-python",
   "name": "python",
   "nbconvert_exporter": "python",
   "pygments_lexer": "ipython3",
   "version": "3.8.5"
  }
 },
 "nbformat": 4,
 "nbformat_minor": 5
}

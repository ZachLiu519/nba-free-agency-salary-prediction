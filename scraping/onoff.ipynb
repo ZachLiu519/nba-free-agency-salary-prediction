{
 "cells": [
  {
   "cell_type": "code",
   "execution_count": 18,
   "metadata": {},
   "outputs": [],
   "source": [
    "from bs4 import BeautifulSoup\n",
    "import requests\n",
    "from requests.adapters import HTTPAdapter\n",
    "from requests.packages.urllib3.util.retry import Retry"
   ]
  },
  {
   "cell_type": "code",
   "execution_count": 19,
   "metadata": {},
   "outputs": [],
   "source": [
    "import pandas as pd\n",
    "import re\n",
    "from multiprocessing import Pool\n",
    "import pickle\n",
    "import time"
   ]
  },
  {
   "cell_type": "markdown",
   "metadata": {},
   "source": [
    "## Define elements for scraping"
   ]
  },
  {
   "cell_type": "code",
   "execution_count": 43,
   "metadata": {},
   "outputs": [],
   "source": [
    "tabs = ['team_efficiency',\n",
    "        'team_shooting_freq',\n",
    "        'team_shooting_fg',\n",
    "        'team_hc_and_putbacks',\n",
    "        'team_transition',\n",
    "       'opponent_shooting_freq',\n",
    "       'opponent_shooting_fg',\n",
    "       'opponent_hc_and_putbacks',\n",
    "       'opponent_transition']\n",
    "seasons = [str(season) for season in range(2004, 2022)]\n",
    "\n",
    "my_headers = {\n",
    "    'authority': 'cleaningtheglass.com',\n",
    "    'cache-control': 'max-age=0',\n",
    "    'sec-ch-ua': '\" Not A;Brand\";v=\"99\", \"Chromium\";v=\"96\", \"Microsoft Edge\";v=\"96\"',\n",
    "    'sec-ch-ua-mobile': '?0',\n",
    "    'sec-ch-ua-platform': '\"Windows\"',\n",
    "    'upgrade-insecure-requests': '1',\n",
    "    'user-agent': 'Mozilla/5.0 (Windows NT 10.0; Win64; x64) AppleWebKit/537.36 (KHTML, like Gecko) Chrome/96.0.4664.55 Safari/537.36 Edg/96.0.1054.43',\n",
    "    'accept': 'text/html,application/xhtml+xml,application/xml;q=0.9,image/webp,image/apng,*/*;q=0.8,application/signed-exchange;v=b3;q=0.9',\n",
    "    'sec-fetch-site': 'none',\n",
    "    'sec-fetch-mode': 'navigate',\n",
    "    'sec-fetch-user': '?1',\n",
    "    'sec-fetch-dest': 'document',\n",
    "    'accept-language': 'en,zh-CN;q=0.9,zh;q=0.8,en-US;q=0.7',\n",
    "    'cookie': 'wordpress_logged_in_cfb45adfd4102bd74a046b78d76db012=zach225793%7C1670421579%7Cqe3pn3baHEn8lPIIQEpw2tAfbqsdUfINheMSscIPNl5%7Cce0105c6a9be760e3c27785cfabe16ec680f440f05609b1e800ffd1f561775b0; sessionid=yh4dn9hkv9ohcjzjge5twtl0g5skpi2m; csrftoken=DzYXKBmEics8LjNpMZl7B7szJOBuxQOMtO496G8DI2aSwt9pdwJ4TvUkrdAY8GMj',\n",
    "}"
   ]
  },
  {
   "cell_type": "code",
   "execution_count": 47,
   "metadata": {},
   "outputs": [],
   "source": [
    "def data_per_team(season):\n",
    "    def add_id_season(table, season):\n",
    "        \n",
    "        ids = [re.search(r'\\d+', str(html_soup.find('table').find_all('a')[i]))[0] for i in range(len(table))]\n",
    "        table['id'] = ids\n",
    "        table.columns = [' '.join(col).strip() for col in table.columns.values]\n",
    "        table['season'] = season + \"-\" + str(int(season)+1)[2:]\n",
    "        \n",
    "        return table\n",
    "    \n",
    "    season_tables = []\n",
    "    for team in range(1, 31):\n",
    "        # start session and create response\n",
    "        session = requests.Session()\n",
    "        retry = Retry(connect=3, backoff_factor=0.5)\n",
    "        adapter = HTTPAdapter(max_retries=retry)\n",
    "        session.mount('http://', adapter)\n",
    "        session.mount('https://', adapter)\n",
    "        \n",
    "        if team == 4 and season == '2003':\n",
    "            session.keep_alive = False\n",
    "            continue\n",
    "        \n",
    "        response = \"\"\n",
    "        while response == \"\":\n",
    "            try:\n",
    "                url = \"https://cleaningtheglass.com/stats/team/\" + str(team) + \"/onoff?season=\" + season + \"#tab-team_efficiency\"\n",
    "                response = session.get(url, headers=my_headers)\n",
    "                response_status = re.search(r'\\d+', str(response))[0]\n",
    "                if response_status != '200': # handle fail case from response\n",
    "                    break\n",
    "            except ChunkedEncodingError as err:\n",
    "                time.sleep(25)\n",
    "                continue\n",
    "\n",
    "        # parse\n",
    "        html_soup = BeautifulSoup(response.text, 'html.parser')\n",
    "        tables = [pd.read_html(str(html_soup.find_all('table')[i]))[0] for i in range(9)]\n",
    "        team_tables = [add_id_season(table, season) for table in tables]\n",
    "\n",
    "        session.keep_alive = False\n",
    "        \n",
    "        season_tables.append(team_tables)\n",
    "    return season_tables\n",
    "\n",
    "\n",
    "with Pool(12) as p:\n",
    "    onoff_stats = p.map(data_per_team, seasons)"
   ]
  },
  {
   "cell_type": "code",
   "execution_count": null,
   "metadata": {},
   "outputs": [],
   "source": [
    "with open('onoff_stats.pickle', 'wb') as handle:\n",
    "    pickle.dump(onoff_stats, handle, protocol=pickle.HIGHEST_PROTOCOL)"
   ]
  }
 ],
 "metadata": {
  "kernelspec": {
   "display_name": "Python 3.8.2 64-bit ('DataScience': conda)",
   "language": "python",
   "name": "python38264bitdatascienceconda6647aa692cd647ca976aaa01095ed2f6"
  },
  "language_info": {
   "codemirror_mode": {
    "name": "ipython",
    "version": 3
   },
   "file_extension": ".py",
   "mimetype": "text/x-python",
   "name": "python",
   "nbconvert_exporter": "python",
   "pygments_lexer": "ipython3",
   "version": "3.8.5"
  }
 },
 "nbformat": 4,
 "nbformat_minor": 4
}
